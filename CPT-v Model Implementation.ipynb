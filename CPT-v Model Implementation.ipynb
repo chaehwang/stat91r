{
 "cells": [
  {
   "cell_type": "markdown",
   "metadata": {},
   "source": [
    "# Unsupervised Learning with Non-Ignorable Missing Data"
   ]
  },
  {
   "cell_type": "code",
   "execution_count": 1,
   "metadata": {
    "collapsed": false
   },
   "outputs": [
    {
     "name": "stderr",
     "output_type": "stream",
     "text": [
      "/Users/ChrsitineHwang/anaconda/lib/python2.7/site-packages/matplotlib/font_manager.py:273: UserWarning: Matplotlib is building the font cache using fc-list. This may take a moment.\n",
      "  warnings.warn('Matplotlib is building the font cache using fc-list. This may take a moment.')\n"
     ]
    }
   ],
   "source": [
    "import numpy as np\n",
    "import pandas as pd\n",
    "from sklearn.linear_model import LinearRegression as Lin_Reg\n",
    "from sklearn.linear_model import Ridge as Ridge_Reg\n",
    "from sklearn.linear_model import LogisticRegression\n",
    "from sklearn.linear_model import Lasso as Lasso_Reg\n",
    "from statsmodels.regression.linear_model import OLS\n",
    "from sklearn.ensemble import RandomForestClassifier\n",
    "import sklearn.preprocessing as Preprocessing\n",
    "from sklearn.preprocessing import StandardScaler as Standardize\n",
    "import itertools as it\n",
    "import matplotlib\n",
    "import matplotlib.pyplot as plt\n",
    "import matplotlib.cm as cmx\n",
    "import matplotlib.colors as colors\n",
    "import scipy as sp\n",
    "from itertools import combinations\n",
    "%matplotlib inline\n",
    "####import math"
   ]
  },
  {
   "cell_type": "code",
   "execution_count": 2,
   "metadata": {
    "collapsed": true
   },
   "outputs": [],
   "source": [
    "### create the different betas\n",
    "    #########\n",
    "    # If there are three latent variables, then each movie will have 3 sets of probability distributions\n",
    "    # because there can be \"teen, young adult, old people\" categories that have different movie preferences.\n",
    "    #\n",
    "    # Input: z = 3, m = 3\n",
    "    # Output: [ (z1:m1 rating),(z1:m2 rating), (z1:m3 rating), (z2:m1 rating), etc]\n",
    "    #\n",
    "    #########\n",
    "\n",
    "def simulate_data(z=1, n = 100, m = 3, v = 5):\n",
    "    all_beta = []\n",
    "    for z_ in range(z):\n",
    "        beta = []\n",
    "        for m_ in range(m):\n",
    "            beta_temp = np.random.dirichlet(np.ones(v),size=1)[0]\n",
    "            beta.append(beta_temp)\n",
    "        all_beta.append(beta)\n",
    "        \n",
    "#     theta = np.random.dirichlet(np.ones(z),size = 1)[0]\n",
    "    # Generates which latent variable each user comes from    \n",
    "    z_list = np.random.randint(1,z+1,n)\n",
    "    complete_data = np.zeros((n,m))\n",
    "    for i in range(len(z_list)):\n",
    "        for m_ in range(m):\n",
    "            complete_data[i][m_] = np.argmax(np.random.multinomial(1,list(all_beta[z_list[i]-1][m_])))+1\n",
    "    return complete_data, all_beta,z_list"
   ]
  },
  {
   "cell_type": "code",
   "execution_count": 3,
   "metadata": {
    "collapsed": true
   },
   "outputs": [],
   "source": [
    "#### The EM algorithm based on the multinomial mixture model\n",
    "\n",
    "def run_EM(theta,beta,phi,gamma,mu,lambda_,v,m,z,n,complete_data,r):\n",
    "    import time\n",
    "\n",
    "    start = time.time()\n",
    "    \n",
    "    ### store the past\n",
    "    past_beta = np.zeros((v,m,z))\n",
    "    past_gamma = np.zeros((m,z,n))\n",
    "    past_phi = np.zeros((z,n))\n",
    "    past_mu = np.zeros(v)\n",
    "    past_lambda_ = np.zeros((v,m,z,n))\n",
    "    past_theta = np.zeros(z)\n",
    "    \n",
    "    counter= 0\n",
    "    \n",
    "    eps = .01\n",
    "    while(abs(past_beta-beta).sum() > eps and abs(past_gamma-gamma).sum() > eps and abs(past_mu-mu).sum() > eps and\n",
    "         abs(past_phi-phi).sum() > eps and abs(past_lambda_-lambda_).sum() > eps and abs(past_theta-theta).sum() > eps): \n",
    "#     for i in range(100):    \n",
    "\n",
    "        ### E step\n",
    "        past_phi = np.copy(phi)\n",
    "        past_lambda_ = np.copy(lambda_)\n",
    "        past_theta = np.copy(theta)\n",
    "        past_beta = np.copy(beta)\n",
    "        past_gamma = np.copy(gamma)\n",
    "        past_mu = np.copy(mu)\n",
    "        ###### lambda\n",
    "        for v_ in range(v):\n",
    "            for m_ in range(m):\n",
    "                for z_ in range(z):\n",
    "                    for n_ in range(n):\n",
    "                        lambda_[v_][m_][z_][n_] = ((complete_data[n_][m_]==(v_+1))*mu[v_]*beta[v_][m_][z_])**r[n_][m_]*((1-mu[v_])*beta[v_][m_][z_])**(1-r[n_][m_])\n",
    "\n",
    "\n",
    "        ###### gamma\n",
    "        gamma = lambda_.sum(axis = 0)\n",
    "\n",
    "        ##### vectorized phi\n",
    "        phi = np.tile(theta, (n,1)).T*gamma.prod(axis = 0)/(np.tile(theta, (n,1)).T*gamma.prod(axis = 0)).sum(axis=0)\n",
    "\n",
    "\n",
    "        ### M step\n",
    "        theta = phi.sum(axis=1)/phi.sum()\n",
    "\n",
    "        #vectorized beta\n",
    "        for v_ in range(v):\n",
    "            for m_ in range(m):\n",
    "                for z_ in range(z):\n",
    "                    sum_ = 0\n",
    "                    for n_ in range(n):\n",
    "                        sum_ += phi[z_][n_]*lambda_[v_][m_][z_][n_]/gamma[m_][z_][n_]\n",
    "                    beta[v_][m_][z_] = sum_\n",
    "\n",
    "        beta = beta/phi.sum(axis=1)\n",
    "\n",
    "\n",
    "        ######mu\n",
    "        for v_ in range(v):\n",
    "            num = 0\n",
    "            denom = 0\n",
    "            for n_ in range(n):\n",
    "                for z_ in range(z):\n",
    "                    for m_ in range(m):\n",
    "                        num += phi[z_][n_]*r[n_][m_]*lambda_[v_][m_][z_][n_]/gamma[m_][z_][n_]\n",
    "                        denom += phi[z_][n_]*lambda_[v_][m_][z_][n_]/gamma[m_][z_][n_]\n",
    "            mu[v_] = num/denom\n",
    "\n",
    "        if counter % 100 == 0:\n",
    "            print counter\n",
    "        counter += 1\n",
    "    end = time.time()\n",
    "    print(end - start)  \n",
    "    return mu,gamma,phi,beta,theta,lambda_"
   ]
  },
  {
   "cell_type": "code",
   "execution_count": 4,
   "metadata": {
    "collapsed": true
   },
   "outputs": [],
   "source": [
    "#### Draws priors \n",
    "\n",
    "def create_prior(v,m,z,n):\n",
    "    #mu\n",
    "    mu = np.ones(v)\n",
    "    for i in range(v):\n",
    "        mu[i] = -.075*abs(i-2)+.5\n",
    "    if z == 1:\n",
    "        theta = [1]\n",
    "    else:\n",
    "        c = ()\n",
    "        for i in range(z):\n",
    "            c = (1,)+c\n",
    "            \n",
    "        theta = np.random.dirichlet(c,1).reshape((z,))\n",
    "    c = ()\n",
    "    for m_ in range(v):\n",
    "        c = (1,) + c\n",
    "    beta = np.random.dirichlet(c,(z,m)).transpose()\n",
    "    \n",
    "    phi = np.random.random((z,n))\n",
    "    gamma = np.random.random((m,z,n))\n",
    "    lambda_ = np.random.random((v,m,z,n))\n",
    "    \n",
    "    return mu,theta,beta,phi,gamma,lambda_\n"
   ]
  },
  {
   "cell_type": "code",
   "execution_count": 5,
   "metadata": {
    "collapsed": true
   },
   "outputs": [],
   "source": [
    "def calculate_missing(n,m,complete_data,mu):\n",
    "    ####### R matrix that decides which values are missing\n",
    "    r = np.ones((n,m))\n",
    "    for n_ in range(n):\n",
    "        for m_ in range(m):\n",
    "            val = complete_data[n_][m_]\n",
    "            if np.random.rand(1) < mu[val-1]:\n",
    "                r[n_][m_] = 0\n",
    "    return r\n",
    "              "
   ]
  },
  {
   "cell_type": "code",
   "execution_count": 6,
   "metadata": {
    "collapsed": true
   },
   "outputs": [],
   "source": [
    "#### Uses converged beta, phi, and mu estimate to impute the missing values\n",
    "def missing_value_filled_in(mu,phi,beta,n,m,missing_data,sample,replace = 0):\n",
    "    \n",
    "    ### fills in the data\n",
    "    for n_ in range(n):\n",
    "        for m_ in range(m):\n",
    "            latent = np.argmax(phi[:,n_])\n",
    "            if missing_data[n_][m_] == replace:\n",
    "                temp = []\n",
    "                for i in range(sample):\n",
    "                    temp.append(np.argmax(np.random.multinomial(1, beta[:,m_,latent]))+1)\n",
    "                missing_data[n_][m_] = np.mean(temp)\n",
    "       \n",
    "    return missing_data"
   ]
  },
  {
   "cell_type": "code",
   "execution_count": 7,
   "metadata": {
    "collapsed": true
   },
   "outputs": [],
   "source": [
    "#### uses mean to ipute missing values\n",
    "\n",
    "def standard_imputation(missing_data):\n",
    "    column_names = missing_data.columns\n",
    "    for col in column_names:\n",
    "        col_mean = np.mean(missing_data[col])\n",
    "        for i in range(len(missing_data[col])):\n",
    "            if missing_data[col][i] <= 0:\n",
    "                missing_data[col][i] = col_mean\n",
    "    print missing_data.shape\n",
    "    return missing_data"
   ]
  },
  {
   "cell_type": "code",
   "execution_count": null,
   "metadata": {
    "collapsed": true
   },
   "outputs": [],
   "source": []
  },
  {
   "cell_type": "markdown",
   "metadata": {},
   "source": [
    "# Single Sample Test Run"
   ]
  },
  {
   "cell_type": "code",
   "execution_count": 8,
   "metadata": {
    "collapsed": false
   },
   "outputs": [],
   "source": [
    "z=1\n",
    "m = 5\n",
    "v = 5\n",
    "n = 1000\n",
    "complete_data,true_beta,z_list = simulate_data(z = z,n=n,m=m)"
   ]
  },
  {
   "cell_type": "code",
   "execution_count": 9,
   "metadata": {
    "collapsed": false
   },
   "outputs": [
    {
     "name": "stderr",
     "output_type": "stream",
     "text": [
      "/Users/ChrsitineHwang/anaconda/lib/python2.7/site-packages/ipykernel/__main__.py:7: VisibleDeprecationWarning: using a non-integer number instead of an integer will result in an error in the future\n"
     ]
    },
    {
     "name": "stdout",
     "output_type": "stream",
     "text": [
      "0\n",
      "34.3521771431\n"
     ]
    }
   ],
   "source": [
    "mu,theta,beta,phi,gamma,lambda_ = create_prior(v,m,z,n)\n",
    "r = calculate_missing(n,m,complete_data,mu)\n",
    "missing_data = r*complete_data\n",
    "target_var = complete_data[:,0]+complete_data[:,1] + complete_data[:,2]+complete_data[:,3]-complete_data[:,4]+np.random.normal(0,1,len(complete_data[:,0]))\n",
    "mu,gamma,phi,beta,theta,lambda_ = run_EM(theta,beta,phi,gamma,mu,lambda_,v,m,z,n,complete_data*r,r)"
   ]
  },
  {
   "cell_type": "code",
   "execution_count": 13,
   "metadata": {
    "collapsed": true
   },
   "outputs": [],
   "source": [
    "model_filled_in =  missing_value_filled_in(mu,phi,beta,n,m,np.copy(missing_data),10)"
   ]
  },
  {
   "cell_type": "code",
   "execution_count": 14,
   "metadata": {
    "collapsed": false
   },
   "outputs": [
    {
     "name": "stdout",
     "output_type": "stream",
     "text": [
      "[[[ 0.18300617]\n",
      "  [ 0.4339673 ]\n",
      "  [ 0.06751667]\n",
      "  [ 0.28983458]\n",
      "  [ 0.337471  ]]\n",
      "\n",
      " [[ 0.36077439]\n",
      "  [ 0.12228827]\n",
      "  [ 0.17497751]\n",
      "  [ 0.1307198 ]\n",
      "  [ 0.05968037]]\n",
      "\n",
      " [[ 0.06304869]\n",
      "  [ 0.30995299]\n",
      "  [ 0.1438826 ]\n",
      "  [ 0.06582196]\n",
      "  [ 0.08006957]]\n",
      "\n",
      " [[ 0.21860876]\n",
      "  [ 0.08558566]\n",
      "  [ 0.36828079]\n",
      "  [ 0.07291255]\n",
      "  [ 0.07189868]]\n",
      "\n",
      " [[ 0.17456199]\n",
      "  [ 0.04820579]\n",
      "  [ 0.24534243]\n",
      "  [ 0.44071111]\n",
      "  [ 0.45088039]]]\n",
      "[[array([ 0.18766259,  0.31580255,  0.08021955,  0.22606987,  0.19024545]), array([ 0.43458529,  0.10340175,  0.31712684,  0.09004635,  0.05483977]), array([ 0.07461902,  0.15144139,  0.14007485,  0.39676856,  0.23709619]), array([ 0.27588148,  0.15239013,  0.04899724,  0.08886259,  0.43386857]), array([ 0.33101636,  0.06171344,  0.08910238,  0.07754361,  0.44062421])]]\n"
     ]
    }
   ],
   "source": [
    "print beta\n",
    "print true_beta"
   ]
  },
  {
   "cell_type": "markdown",
   "metadata": {},
   "source": [
    "The betas look like they converge! Lets look at the performance against standard imputation"
   ]
  },
  {
   "cell_type": "code",
   "execution_count": 15,
   "metadata": {
    "collapsed": false
   },
   "outputs": [
    {
     "name": "stdout",
     "output_type": "stream",
     "text": [
      "(1000, 5)\n",
      "0.510464835369\n"
     ]
    },
    {
     "name": "stderr",
     "output_type": "stream",
     "text": [
      "/Users/ChrsitineHwang/anaconda/lib/python2.7/site-packages/ipykernel/__main__.py:3: UserWarning: With alpha=0, this algorithm does not converge well. You are advised to use the LinearRegression estimator\n",
      "  app.launch_new_instance()\n"
     ]
    }
   ],
   "source": [
    "standard_missing_data = standard_imputation(pd.DataFrame(np.copy(missing_data)))\n",
    "standard_model = Lasso_Reg(alpha = 0)\n",
    "standard_model.fit(np.array(standard_missing_data),target_var)\n",
    "print standard_model.score(np.array(standard_missing_data),target_var)"
   ]
  },
  {
   "cell_type": "code",
   "execution_count": 16,
   "metadata": {
    "collapsed": false
   },
   "outputs": [
    {
     "name": "stdout",
     "output_type": "stream",
     "text": [
      "0.564436553188\n"
     ]
    },
    {
     "name": "stderr",
     "output_type": "stream",
     "text": [
      "/Users/ChrsitineHwang/anaconda/lib/python2.7/site-packages/ipykernel/__main__.py:2: UserWarning: With alpha=0, this algorithm does not converge well. You are advised to use the LinearRegression estimator\n",
      "  from ipykernel import kernelapp as app\n"
     ]
    }
   ],
   "source": [
    "fancy_model = Lasso_Reg(alpha = 0)\n",
    "fancy_model.fit(np.array(model_filled_in),target_var)\n",
    "print fancy_model.score(np.array(model_filled_in),target_var)"
   ]
  },
  {
   "cell_type": "code",
   "execution_count": 17,
   "metadata": {
    "collapsed": false
   },
   "outputs": [
    {
     "name": "stdout",
     "output_type": "stream",
     "text": [
      "0.916154219474\n"
     ]
    },
    {
     "name": "stderr",
     "output_type": "stream",
     "text": [
      "/Users/ChrsitineHwang/anaconda/lib/python2.7/site-packages/ipykernel/__main__.py:2: UserWarning: With alpha=0, this algorithm does not converge well. You are advised to use the LinearRegression estimator\n",
      "  from ipykernel import kernelapp as app\n"
     ]
    }
   ],
   "source": [
    "complete_model = Lasso_Reg(alpha = 0)\n",
    "complete_model.fit(np.array(complete_data),target_var)\n",
    "print complete_model.score(np.array(complete_data),target_var)"
   ]
  },
  {
   "cell_type": "code",
   "execution_count": 99,
   "metadata": {
    "collapsed": false
   },
   "outputs": [
    {
     "name": "stderr",
     "output_type": "stream",
     "text": [
      "/Users/ChrsitineHwang/anaconda/lib/python2.7/site-packages/ipykernel/__main__.py:7: VisibleDeprecationWarning: using a non-integer number instead of an integer will result in an error in the future\n"
     ]
    },
    {
     "name": "stdout",
     "output_type": "stream",
     "text": [
      "0\n",
      "38.5157818794\n",
      "(1000, 5)\n"
     ]
    },
    {
     "name": "stderr",
     "output_type": "stream",
     "text": [
      "/Users/ChrsitineHwang/anaconda/lib/python2.7/site-packages/ipykernel/__main__.py:17: UserWarning: With alpha=0, this algorithm does not converge well. You are advised to use the LinearRegression estimator\n",
      "/Users/ChrsitineHwang/anaconda/lib/python2.7/site-packages/ipykernel/__main__.py:20: UserWarning: With alpha=0, this algorithm does not converge well. You are advised to use the LinearRegression estimator\n"
     ]
    },
    {
     "name": "stdout",
     "output_type": "stream",
     "text": [
      "0\n",
      "35.9994771481\n",
      "(1000, 5)\n",
      "0\n",
      "37.5070221424\n",
      "(1000, 5)\n",
      "0\n",
      "41.1043181419\n",
      "(1000, 5)\n",
      "0\n",
      "35.5295670033\n",
      "(1000, 5)\n"
     ]
    }
   ],
   "source": [
    "synthetic_stand_score = []\n",
    "synthetic_model_score = []\n",
    "for i in range(5):\n",
    "    z=1\n",
    "    m = 5\n",
    "    v = 5\n",
    "    n = 1000\n",
    "    complete_data,true_beta,z_list = simulate_data(z = z,n=n,m=m)\n",
    "    mu,theta,beta,phi,gamma,lambda_ = create_prior(v,m,z,n)\n",
    "    r = calculate_missing(n,m,complete_data,mu)\n",
    "    missing_data = r*complete_data\n",
    "    target_var = complete_data[:,0]+complete_data[:,1] + complete_data[:,2]+complete_data[:,3]-complete_data[:,4]+np.random.normal(0,1,len(complete_data[:,0]))\n",
    "    mu,gamma,phi,beta,theta,lambda_ = run_EM(theta,beta,phi,gamma,mu,lambda_,v,m,z,n,complete_data*r,r)\n",
    "    model_filled_in =  missing_value_filled_in(mu,phi,beta,n,m,np.copy(missing_data),10)\n",
    "    standard_missing_data = standard_imputation(pd.DataFrame(np.copy(missing_data)))\n",
    "    standard_model = Lasso_Reg(alpha = 0)\n",
    "    standard_model.fit(np.array(standard_missing_data),target_var)\n",
    "    synthetic_stand_score.append(standard_model.score(np.array(standard_missing_data),target_var))\n",
    "    fancy_model = Lasso_Reg(alpha = 0)\n",
    "    fancy_model.fit(np.array(model_filled_in),target_var)\n",
    "    synthetic_model_score.append(fancy_model.score(np.array(model_filled_in),target_var))\n"
   ]
  },
  {
   "cell_type": "code",
   "execution_count": 100,
   "metadata": {
    "collapsed": false
   },
   "outputs": [
    {
     "name": "stdout",
     "output_type": "stream",
     "text": [
      "0.439987958186\n",
      "0.546176685545\n"
     ]
    }
   ],
   "source": [
    "print np.mean(synthetic_stand_score)\n",
    "print np.mean(synthetic_model_score)"
   ]
  },
  {
   "cell_type": "markdown",
   "metadata": {},
   "source": [
    "# Try out the Sample Method for tradeoff"
   ]
  },
  {
   "cell_type": "code",
   "execution_count": 16,
   "metadata": {
    "collapsed": false
   },
   "outputs": [
    {
     "name": "stderr",
     "output_type": "stream",
     "text": [
      "/Users/ChrsitineHwang/anaconda/lib/python2.7/site-packages/ipykernel/__main__.py:7: UserWarning: With alpha=0, this algorithm does not converge well. You are advised to use the LinearRegression estimator\n",
      "/Users/ChrsitineHwang/anaconda/lib/python2.7/site-packages/sklearn/linear_model/coordinate_descent.py:454: UserWarning: Coordinate descent with alpha=0 may lead to unexpected results and is discouraged.\n",
      "  positive)\n",
      "/Users/ChrsitineHwang/anaconda/lib/python2.7/site-packages/sklearn/linear_model/coordinate_descent.py:466: ConvergenceWarning: Objective did not converge. You might want to increase the number of iterations\n",
      "  ConvergenceWarning)\n"
     ]
    }
   ],
   "source": [
    "n_sample = [1,5,10,15,20,30,40]\n",
    "score = []\n",
    "for n_ in n_sample:\n",
    "    model_filled_in = missing_value_filled_in(mu,phi,beta,n,m,np.copy(missing_data),n_)\n",
    "    \n",
    "    lasso = Lasso_Reg(alpha = 0)\n",
    "    lasso.fit(np.array(model_filled_in),target_var)\n",
    "    score.append(lasso.score(np.array(model_filled_in),target_var))"
   ]
  },
  {
   "cell_type": "code",
   "execution_count": 17,
   "metadata": {
    "collapsed": false
   },
   "outputs": [
    {
     "data": {
      "text/plain": [
       "<matplotlib.text.Text at 0x116491890>"
      ]
     },
     "execution_count": 17,
     "metadata": {},
     "output_type": "execute_result"
    },
    {
     "data": {
      "image/png": "[encoded data removed]",
      "text/plain": [
       "<matplotlib.figure.Figure at 0x11932cdd0>"
      ]
     },
     "metadata": {},
     "output_type": "display_data"
    }
   ],
   "source": [
    "plt.plot(n_sample,score)\n",
    "plt.ylabel('R^2')\n",
    "plt.xlabel('n_sample')\n",
    "plt.title('N_Sample vs R^2 Tradeoff')"
   ]
  },
  {
   "cell_type": "markdown",
   "metadata": {},
   "source": [
    "# Multiple Latent Variable Testing"
   ]
  },
  {
   "cell_type": "code",
   "execution_count": 24,
   "metadata": {
    "collapsed": false
   },
   "outputs": [
    {
     "name": "stderr",
     "output_type": "stream",
     "text": [
      "/Users/ChrsitineHwang/anaconda/lib/python2.7/site-packages/ipykernel/__main__.py:7: VisibleDeprecationWarning: using a non-integer number instead of an integer will result in an error in the future\n"
     ]
    },
    {
     "name": "stdout",
     "output_type": "stream",
     "text": [
      "0\n",
      "30.4331889153\n",
      "(1000, 5)\n"
     ]
    },
    {
     "name": "stderr",
     "output_type": "stream",
     "text": [
      "/Users/ChrsitineHwang/anaconda/lib/python2.7/site-packages/ipykernel/__main__.py:22: UserWarning: With alpha=0, this algorithm does not converge well. You are advised to use the LinearRegression estimator\n",
      "/Users/ChrsitineHwang/anaconda/lib/python2.7/site-packages/ipykernel/__main__.py:26: UserWarning: With alpha=0, this algorithm does not converge well. You are advised to use the LinearRegression estimator\n"
     ]
    },
    {
     "name": "stdout",
     "output_type": "stream",
     "text": [
      "0\n",
      "32.9727928638\n",
      "(1000, 5)\n",
      "0\n",
      "34.2378799915\n",
      "(1000, 5)\n",
      "0\n",
      "31.115311861\n",
      "(1000, 5)\n",
      "0\n",
      "66.9378809929\n",
      "(1000, 5)\n",
      "0\n",
      "62.9908909798\n",
      "(1000, 5)\n",
      "0\n",
      "70.5294280052\n",
      "(1000, 5)\n",
      "0\n",
      "72.502407074\n",
      "(1000, 5)\n",
      "0\n",
      "102.677103996\n",
      "(1000, 5)\n",
      "0\n",
      "104.300826073\n",
      "(1000, 5)\n",
      "0\n",
      "106.835358858\n",
      "(1000, 5)\n",
      "0\n",
      "113.411142826\n",
      "(1000, 5)\n",
      "0\n",
      "165.84483695\n",
      "(1000, 5)\n",
      "0\n",
      "141.286710978\n",
      "(1000, 5)\n",
      "0\n",
      "135.316684008\n",
      "(1000, 5)\n",
      "0\n",
      "138.148699999\n",
      "(1000, 5)\n",
      "0\n",
      "160.154866934\n",
      "(1000, 5)\n",
      "0\n",
      "154.760251045\n",
      "(1000, 5)\n",
      "0\n",
      "159.903769016\n",
      "(1000, 5)\n",
      "0\n",
      "152.329175949\n",
      "(1000, 5)\n",
      "0\n",
      "182.671153069\n",
      "(1000, 5)\n",
      "0\n",
      "184.533655882\n",
      "(1000, 5)\n",
      "0\n",
      "183.48898387\n",
      "(1000, 5)\n",
      "0\n",
      "182.915058136\n",
      "(1000, 5)\n",
      "0\n",
      "212.855450869\n",
      "(1000, 5)\n",
      "0\n",
      "213.787418842\n",
      "(1000, 5)\n",
      "0\n",
      "216.789247036\n",
      "(1000, 5)\n",
      "0\n",
      "215.625316143\n",
      "(1000, 5)\n",
      "0\n",
      "246.130751133\n",
      "(1000, 5)\n",
      "0\n",
      "248.699056864\n",
      "(1000, 5)\n",
      "0\n",
      "252.706894159\n",
      "(1000, 5)\n",
      "0\n",
      "255.019356012\n",
      "(1000, 5)\n",
      "0\n",
      "285.783178091\n",
      "(1000, 5)\n",
      "0\n",
      "281.504235983\n",
      "(1000, 5)\n",
      "0\n",
      "2118.55709219\n",
      "(1000, 5)\n",
      "0\n",
      "673.287323952\n",
      "(1000, 5)\n"
     ]
    }
   ],
   "source": [
    "z_range = range(1,10)\n",
    "rep = range(1,5)\n",
    "latent_score = []\n",
    "for z_ in z_range:\n",
    "    for i in rep:\n",
    "        z=z_\n",
    "        m = 5\n",
    "        v = 5\n",
    "        n = 1000\n",
    "        complete_data,true_beta,z_list = simulate_data(z = z,n=n,m=m)\n",
    "        mu,theta,beta,phi,gamma,lambda_ = create_prior(v,m,z,n)\n",
    "        r = calculate_missing(n,m,complete_data,mu)\n",
    "        mu,gamma,phi,beta,theta,lambda_ = run_EM(theta,beta,phi,gamma,mu,lambda_,v,m,z,n,complete_data,r)\n",
    "        missing_data = r*complete_data\n",
    "        model_filled_in = missing_value_filled_in(mu,phi,beta,n,m,np.copy(missing_data),10)\n",
    "        target_var = complete_data[:,0]+complete_data[:,1] + complete_data[:,2]+complete_data[:,3]-complete_data[:,4]+np.random.normal(0,1,len(complete_data[:,0]))\n",
    "\n",
    "        \n",
    "        standard_missing_data = standard_imputation(pd.DataFrame(np.copy(missing_data)))\n",
    "        \n",
    "        standard_model = Lasso_Reg(alpha = 0)\n",
    "        standard_model.fit(np.array(standard_missing_data),target_var)\n",
    "        standard_score =  standard_model.score(np.array(standard_missing_data),target_var)\n",
    "        \n",
    "        fancy_model = Lasso_Reg(alpha = 0)\n",
    "        fancy_model.fit(np.array(model_filled_in),target_var)\n",
    "        model_score =  fancy_model.score(np.array(model_filled_in),target_var)\n",
    "        \n",
    "        \n",
    "        latent_score.append(model_score-standard_score)"
   ]
  },
  {
   "cell_type": "code",
   "execution_count": 31,
   "metadata": {
    "collapsed": false
   },
   "outputs": [],
   "source": [
    "z_1 = latent_score[0:4]\n",
    "z_2 = latent_score[4:8]\n",
    "z_3 = latent_score[8:12]\n",
    "z_4 = latent_score[12:16]\n",
    "z_5 = latent_score[16:20]\n",
    "z_6 = latent_score[20:24]\n",
    "z_7 = latent_score[24:28]\n",
    "z_8 = latent_score[28:32]\n",
    "z_9 = latent_score[32:36]\n"
   ]
  },
  {
   "cell_type": "code",
   "execution_count": 33,
   "metadata": {
    "collapsed": false
   },
   "outputs": [],
   "source": [
    "z_latent = [np.mean(z_1),np.mean(z_2),np.mean(z_3),np.mean(z_4),np.mean(z_5),np.mean(z_6),np.mean(z_7),np.mean(z_8),np.mean(z_9)]"
   ]
  },
  {
   "cell_type": "code",
   "execution_count": 42,
   "metadata": {
    "collapsed": false
   },
   "outputs": [
    {
     "data": {
      "text/plain": [
       "<matplotlib.text.Text at 0x11da341d0>"
      ]
     },
     "execution_count": 42,
     "metadata": {},
     "output_type": "execute_result"
    },
    {
     "data": {
      "image/png": "[encoded data removed]",
      "text/plain": [
       "<matplotlib.figure.Figure at 0x11d8c9a90>"
      ]
     },
     "metadata": {},
     "output_type": "display_data"
    }
   ],
   "source": [
    "z_range = range(1,10)\n",
    "plt.scatter(z_range,z_latent)\n",
    "plt.xlabel('Number of latent variables')\n",
    "plt.ylabel('CPT-v R^2 - standard R^2')\n",
    "plt.title('Difference in Performance between CPT-v model and \\n Standard model with Varying Number of Latent Variables')"
   ]
  },
  {
   "cell_type": "markdown",
   "metadata": {},
   "source": [
    "# Different levels of missingness"
   ]
  },
  {
   "cell_type": "code",
   "execution_count": 48,
   "metadata": {
    "collapsed": false
   },
   "outputs": [
    {
     "data": {
      "text/plain": [
       "array([ 0.59628043,  0.57178099,  0.99847098,  0.62941444,  0.83281527])"
      ]
     },
     "execution_count": 48,
     "metadata": {},
     "output_type": "execute_result"
    }
   ],
   "source": [
    "np.random.uniform(.5,1,5)"
   ]
  },
  {
   "cell_type": "code",
   "execution_count": 50,
   "metadata": {
    "collapsed": false
   },
   "outputs": [
    {
     "name": "stderr",
     "output_type": "stream",
     "text": [
      "/Users/ChrsitineHwang/anaconda/lib/python2.7/site-packages/ipykernel/__main__.py:7: VisibleDeprecationWarning: using a non-integer number instead of an integer will result in an error in the future\n"
     ]
    },
    {
     "name": "stdout",
     "output_type": "stream",
     "text": [
      "0\n",
      "113.54144001\n",
      "(1000, 5)\n"
     ]
    },
    {
     "name": "stderr",
     "output_type": "stream",
     "text": [
      "/Users/ChrsitineHwang/anaconda/lib/python2.7/site-packages/ipykernel/__main__.py:31: UserWarning: With alpha=0, this algorithm does not converge well. You are advised to use the LinearRegression estimator\n",
      "/Users/ChrsitineHwang/anaconda/lib/python2.7/site-packages/ipykernel/__main__.py:35: UserWarning: With alpha=0, this algorithm does not converge well. You are advised to use the LinearRegression estimator\n"
     ]
    },
    {
     "name": "stdout",
     "output_type": "stream",
     "text": [
      "0\n",
      "105.512413025\n",
      "(1000, 5)\n",
      "0\n",
      "103.632374048\n",
      "(1000, 5)\n",
      "0\n",
      "95.7129790783\n",
      "(1000, 5)\n",
      "0\n",
      "92.7498078346\n",
      "(1000, 5)\n",
      "0\n",
      "99.4903430939\n",
      "(1000, 5)\n",
      "0\n",
      "94.67969203\n",
      "(1000, 5)\n",
      "0\n",
      "100.717151165\n",
      "(1000, 5)\n",
      "0\n",
      "103.140543938\n",
      "(1000, 5)\n",
      "0\n",
      "100.711321831\n",
      "(1000, 5)\n",
      "0\n",
      "106.556642056\n",
      "(1000, 5)\n",
      "0\n",
      "108.315388918\n",
      "(1000, 5)\n",
      "0\n",
      "108.295706034\n",
      "(1000, 5)\n",
      "0\n",
      "105.432034969\n",
      "(1000, 5)\n",
      "0\n",
      "108.305302858\n",
      "(1000, 5)\n",
      "0\n",
      "106.957323074\n",
      "(1000, 5)\n"
     ]
    }
   ],
   "source": [
    "missingness = ['high','low','mid','normal']\n",
    "rep = range(1,5)\n",
    "missing_score = []\n",
    "for m_ in missingness:\n",
    "    for i in rep:\n",
    "        z = 3\n",
    "        m = 5\n",
    "        v = 5\n",
    "        n = 1000\n",
    "        if m_ == 'high':\n",
    "            mu_true = np.random.uniform(.5,1,v)\n",
    "        elif m_ == 'low':\n",
    "            mu_true = np.random.uniform(0,.5,v)\n",
    "        elif m_ == 'normal':\n",
    "            mu_true = np.random.rand(v)\n",
    "        else:\n",
    "            mu_true = np.random.uniform(.25,.75,v)\n",
    "        \n",
    "        complete_data,true_beta,z_list = simulate_data(z = z,n=n,m=m)\n",
    "        mu,theta,beta,phi,gamma,lambda_ = create_prior(v,m,z,n)\n",
    "        r = calculate_missing(n,m,complete_data,mu_true)\n",
    "        mu,gamma,phi,beta,theta,lambda_ = run_EM(theta,beta,phi,gamma,mu,lambda_,v,m,z,n,complete_data,r)\n",
    "        missing_data = r*complete_data\n",
    "        model_filled_in = missing_value_filled_in(mu,phi,beta,n,m,np.copy(missing_data),10)\n",
    "        target_var = complete_data[:,0]+complete_data[:,1] + complete_data[:,2]+complete_data[:,3]-complete_data[:,4]+np.random.normal(0,1,len(complete_data[:,0]))\n",
    "\n",
    "        \n",
    "        standard_missing_data = standard_imputation(pd.DataFrame(np.copy(missing_data)))\n",
    "        \n",
    "        standard_model = Lasso_Reg(alpha = 0)\n",
    "        standard_model.fit(np.array(standard_missing_data),target_var)\n",
    "        standard_score =  standard_model.score(np.array(standard_missing_data),target_var)\n",
    "        \n",
    "        fancy_model = Lasso_Reg(alpha = 0)\n",
    "        fancy_model.fit(np.array(model_filled_in),target_var)\n",
    "        model_score =  fancy_model.score(np.array(model_filled_in),target_var)\n",
    "        \n",
    "        \n",
    "        missing_score.append(model_score-standard_score)"
   ]
  },
  {
   "cell_type": "code",
   "execution_count": 56,
   "metadata": {
    "collapsed": false
   },
   "outputs": [],
   "source": [
    "high = missing_score[0:4]\n",
    "low = missing_score[4:8]\n",
    "mid = missing_score[8:12]\n",
    "normal = missing_score[12:16]\n",
    "level_missing = [np.mean(low),np.mean(mid),np.mean(high),np.mean(normal)]"
   ]
  },
  {
   "cell_type": "code",
   "execution_count": 67,
   "metadata": {
    "collapsed": false
   },
   "outputs": [
    {
     "data": {
      "text/plain": [
       "<matplotlib.text.Text at 0x1201c0c90>"
      ]
     },
     "execution_count": 67,
     "metadata": {},
     "output_type": "execute_result"
    },
    {
     "data": {
      "image/png": "[encoded data removed]",
      "text/plain": [
       "<matplotlib.figure.Figure at 0x1200a4850>"
      ]
     },
     "metadata": {},
     "output_type": "display_data"
    }
   ],
   "source": [
    "plt.bar(range(1,5),level_missing,align='center')\n",
    "plt.xticks(range(1,5), ['low','mid','high','normal'])\n",
    "plt.xlabel(\"Level Of Missingness\")\n",
    "plt.ylabel(\"CPT-v model R^2 - standard model R^2\")\n",
    "plt.title(\"Difference in performance of CPT-v Model and \\n Standard Model with varying levels of missingness\")"
   ]
  },
  {
   "cell_type": "markdown",
   "metadata": {},
   "source": [
    "# Adding random noise performance"
   ]
  },
  {
   "cell_type": "code",
   "execution_count": 36,
   "metadata": {
    "collapsed": false
   },
   "outputs": [
    {
     "name": "stderr",
     "output_type": "stream",
     "text": [
      "/Users/ChrsitineHwang/anaconda/lib/python2.7/site-packages/ipykernel/__main__.py:7: VisibleDeprecationWarning: using a non-integer number instead of an integer will result in an error in the future\n"
     ]
    },
    {
     "name": "stdout",
     "output_type": "stream",
     "text": [
      "0\n",
      "116.37382102\n",
      "(1000, 5)\n"
     ]
    },
    {
     "name": "stderr",
     "output_type": "stream",
     "text": [
      "/Users/ChrsitineHwang/anaconda/lib/python2.7/site-packages/ipykernel/__main__.py:29: UserWarning: With alpha=0, this algorithm does not converge well. You are advised to use the LinearRegression estimator\n",
      "/Users/ChrsitineHwang/anaconda/lib/python2.7/site-packages/ipykernel/__main__.py:33: UserWarning: With alpha=0, this algorithm does not converge well. You are advised to use the LinearRegression estimator\n"
     ]
    },
    {
     "name": "stdout",
     "output_type": "stream",
     "text": [
      "0\n",
      "118.803184986\n",
      "(1000, 5)\n",
      "0\n",
      "106.914715052\n",
      "(1000, 5)\n",
      "0\n",
      "103.633102894\n",
      "(1000, 5)\n",
      "0\n",
      "111.070809126\n",
      "(1000, 5)\n",
      "0\n",
      "110.631963968\n",
      "(1000, 5)\n",
      "0\n",
      "110.639685154\n",
      "(1000, 5)\n",
      "0\n",
      "114.235594034\n",
      "(1000, 5)\n",
      "0\n",
      "116.607471943\n",
      "(1000, 5)\n",
      "0\n",
      "107.735539913\n",
      "(1000, 5)\n",
      "0\n",
      "117.242504835\n",
      "(1000, 5)\n",
      "0\n",
      "106.156084061\n",
      "(1000, 5)\n",
      "0\n",
      "108.893769979\n",
      "(1000, 5)\n",
      "0\n",
      "114.452344894\n",
      "(1000, 5)\n",
      "0\n",
      "104.581709862\n",
      "(1000, 5)\n",
      "0\n",
      "118.455373049\n",
      "(1000, 5)\n"
     ]
    }
   ],
   "source": [
    "noise_range = [2,3,4,5]\n",
    "rep = range(1,5)\n",
    "model_avg_score = []\n",
    "standard_avg_score = []\n",
    "for noise in noise_range:\n",
    "    model_score = []\n",
    "    standard_score = []\n",
    "    for i in rep:\n",
    "        z = 3\n",
    "        m = 5\n",
    "        v = 5\n",
    "        n = 1000\n",
    "        \n",
    "        complete_data,true_beta,z_list = simulate_data(z = z,n=n,m=m)\n",
    "        mu,theta,beta,phi,gamma,lambda_ = create_prior(v,m,z,n)\n",
    "        r = calculate_missing(n,m,complete_data,mu)\n",
    "        mu,gamma,phi,beta,theta,lambda_ = run_EM(theta,beta,phi,gamma,mu,lambda_,v,m,z,n,complete_data,r)\n",
    "        missing_data = r*complete_data\n",
    "        missing_data = missing_data + np.random.randint(low = -noise, high = noise,size = (n,m))\n",
    "        missing_data = r*missing_data\n",
    "        missing_data[missing_data<0] = 1\n",
    "        model_filled_in = missing_value_filled_in(mu,phi,beta,n,m,np.copy(missing_data),10)\n",
    "        target_var = complete_data[:,0]+complete_data[:,1] + complete_data[:,2]+complete_data[:,3]-complete_data[:,4]+np.random.normal(0,1,len(complete_data[:,0]))\n",
    "\n",
    "        \n",
    "        standard_missing_data = standard_imputation(pd.DataFrame(np.copy(missing_data)))\n",
    "        \n",
    "        standard_model = Lasso_Reg(alpha = 0)\n",
    "        standard_model.fit(np.array(standard_missing_data),target_var)\n",
    "        standard_score.append(standard_model.score(np.array(standard_missing_data),target_var))\n",
    "        \n",
    "        fancy_model = Lasso_Reg(alpha = 0)\n",
    "        fancy_model.fit(np.array(model_filled_in),target_var)\n",
    "        model_score.append(fancy_model.score(np.array(model_filled_in),target_var))\n",
    "        \n",
    "    \n",
    "    standard_avg_score.append(np.mean(standard_score))\n",
    "    model_avg_score.append(np.mean(model_score))"
   ]
  },
  {
   "cell_type": "code",
   "execution_count": 42,
   "metadata": {
    "collapsed": false
   },
   "outputs": [
    {
     "data": {
      "text/plain": [
       "<matplotlib.text.Text at 0x11d0b7810>"
      ]
     },
     "execution_count": 42,
     "metadata": {},
     "output_type": "execute_result"
    },
    {
     "data": {
      "image/png": "[encoded data removed]",
      "text/plain": [
       "<matplotlib.figure.Figure at 0x11c487a10>"
      ]
     },
     "metadata": {},
     "output_type": "display_data"
    }
   ],
   "source": [
    "plt.plot(range(1,5),standard_score, label = 'standard mean')\n",
    "plt.plot(range(1,5),model_score, label = 'CPT-v')\n",
    "plt.legend()\n",
    "plt.xlabel('Level of Noise')\n",
    "plt.ylabel('R^2')\n",
    "plt.title(\"Comparison of Standard Mean Model and \\n CPT-v Model with varying levels of random noise\")"
   ]
  },
  {
   "cell_type": "code",
   "execution_count": 47,
   "metadata": {
    "collapsed": false
   },
   "outputs": [
    {
     "data": {
      "text/plain": [
       "array([ 0.00644843,  0.0181553 ,  0.01120674,  0.01834211])"
      ]
     },
     "execution_count": 47,
     "metadata": {},
     "output_type": "execute_result"
    }
   ],
   "source": [
    "np.array(model_score)-np.array(standard_score)"
   ]
  },
  {
   "cell_type": "code",
   "execution_count": 50,
   "metadata": {
    "collapsed": false
   },
   "outputs": [
    {
     "data": {
      "text/plain": [
       "<matplotlib.text.Text at 0x11d4427d0>"
      ]
     },
     "execution_count": 50,
     "metadata": {},
     "output_type": "execute_result"
    },
    {
     "data": {
      "image/png": "[encoded data removed]",
      "text/plain": [
       "<matplotlib.figure.Figure at 0x11d366450>"
      ]
     },
     "metadata": {},
     "output_type": "display_data"
    }
   ],
   "source": [
    "plt.plot(range(1,5), np.array(model_score)-np.array(standard_score))\n",
    "plt.xlabel(\"Level of Noise\")\n",
    "plt.ylabel('Difference in R^2')\n",
    "plt.title(\"Difference in R^2 of CPT-v model \\n and standard model with Noise\")"
   ]
  },
  {
   "cell_type": "markdown",
   "metadata": {},
   "source": [
    "# Real Data Analysis"
   ]
  },
  {
   "cell_type": "code",
   "execution_count": 133,
   "metadata": {
    "collapsed": true
   },
   "outputs": [],
   "source": [
    "def fill_missing_data(missing_data,z=1):\n",
    "    z=z\n",
    "    m = 1\n",
    "    v = int(missing_data.max())\n",
    "    n = len(missing_data)\n",
    "    \n",
    "    missing_data = missing_data.reshape((n,m))\n",
    "    mu_prior,theta_prior,beta_prior,phi_prior,gamma_prior,lambda_prior = create_prior(v,m,z,n)\n",
    "    r = np.array([ 1-(x== -9) for x in missing_data]).reshape((n,m))\n",
    "    mu,gamma,phi,beta,theta,lambda_ = run_EM(theta_prior,beta_prior,phi_prior,gamma_prior,mu_prior,lambda_prior,v,m,z,n,missing_data,r)\n",
    "    model_filled_in = missing_value_filled_in(mu,phi,beta,n,m,np.copy(missing_data),10,replace=-9)\n",
    "    return model_filled_in"
   ]
  },
  {
   "cell_type": "code",
   "execution_count": 134,
   "metadata": {
    "collapsed": true
   },
   "outputs": [],
   "source": [
    "import urllib\n",
    "raw_data = urllib.urlopen(\"https://archive.ics.uci.edu/ml/machine-learning-databases/mammographic-masses/mammographic_masses.data\")\n",
    "dataset = np.loadtxt(raw_data,dtype = np.str_, delimiter=\",\")\n",
    "dataset = pd.DataFrame(dataset)\n",
    "dataset = dataset.replace('?','-9')\n",
    "dataset = dataset.astype(float)"
   ]
  },
  {
   "cell_type": "code",
   "execution_count": 135,
   "metadata": {
    "collapsed": false
   },
   "outputs": [
    {
     "name": "stdout",
     "output_type": "stream",
     "text": [
      "0\n",
      "24.9853248596\n",
      "0\n",
      "28.1361000538\n",
      "0\n",
      "21.6643769741\n"
     ]
    }
   ],
   "source": [
    "model_2 = fill_missing_data(dataset[2], z = 4)\n",
    "model_3 = fill_missing_data(dataset[3], z = 4)\n",
    "model_4 = fill_missing_data(dataset[4], z = 4)\n",
    "# model_5 = fill_missing_data(dataset[5])"
   ]
  },
  {
   "cell_type": "code",
   "execution_count": 136,
   "metadata": {
    "collapsed": true
   },
   "outputs": [],
   "source": [
    "dataset_fancy = np.copy(dataset)\n",
    "dataset_fancy[:,2] = model_2.reshape((len(model_2),))\n",
    "dataset_fancy[:,3] = model_3.reshape((len(model_3),))\n",
    "dataset_fancy[:,4] =  model_4.reshape((len(model_4),))\n",
    "dataset_fancy  = pd.DataFrame(dataset_fancy)"
   ]
  },
  {
   "cell_type": "code",
   "execution_count": 137,
   "metadata": {
    "collapsed": false
   },
   "outputs": [],
   "source": [
    "real_data_stand_score = []\n",
    "real_data_model_score = []\n",
    "for i in range(5):\n",
    "\n",
    "    train_indices = np.random.uniform(size=len(dataset_fancy[0])) > 1. / 3.\n",
    "    train = pd.DataFrame(dataset[train_indices])\n",
    "    test = pd.DataFrame(dataset[~train_indices])\n",
    "    col2_mean = np.mean(train[2][train[2]>=0])\n",
    "    col3_mean = np.mean(train[3][train[3]>=0])\n",
    "    col4_mean = np.mean(train[4][train[4]>=0])\n",
    "    train[2] = train[2].replace(-9,col2_mean)\n",
    "    train[3] = train[3].replace(-9,col3_mean)\n",
    "    train[4] = train[4].replace(-9,col4_mean)\n",
    "\n",
    "\n",
    "    col2_mean = np.mean(test[2][test[2]>=0])\n",
    "    col3_mean = np.mean(test[3][test[3]>=0])\n",
    "    col4_mean = np.mean(test[4][test[4]>=0])\n",
    "    test[2] = test[2].replace(-9,col2_mean)\n",
    "    test[3] = test[3].replace(-9,col3_mean)\n",
    "    test[4] = test[4].replace(-9,col4_mean)\n",
    "\n",
    "    standard = LogisticRegression()\n",
    "    standard.fit(train[[0,1,2,3,4]],train[5])\n",
    "    real_data_stand_score.append(standard.score(test[[0,1,2,3,4]],test[5]))\n",
    "    \n",
    "    train = dataset_fancy[train_indices]\n",
    "    test = dataset_fancy[~train_indices]\n",
    "    model = LogisticRegression()\n",
    "    model.fit(train[[ 0,1,2,3,4]],train[5])\n",
    "    real_data_model_score.append(model.score(test[[0,1,2,3,4]],test[5]))"
   ]
  },
  {
   "cell_type": "code",
   "execution_count": 140,
   "metadata": {
    "collapsed": false
   },
   "outputs": [
    {
     "name": "stdout",
     "output_type": "stream",
     "text": [
      "0.808719295376\n"
     ]
    }
   ],
   "source": [
    "print np.mean(real_data_stand_score)"
   ]
  },
  {
   "cell_type": "markdown",
   "metadata": {},
   "source": [
    "# Testing for Missingness"
   ]
  },
  {
   "cell_type": "code",
   "execution_count": 181,
   "metadata": {
    "collapsed": true
   },
   "outputs": [],
   "source": [
    "import urllib\n",
    "raw_data = urllib.urlopen(\"https://archive.ics.uci.edu/ml/machine-learning-databases/mammographic-masses/mammographic_masses.data\")\n",
    "dataset = np.loadtxt(raw_data,dtype = np.str_, delimiter=\",\")\n",
    "dataset = pd.DataFrame(dataset)\n",
    "dataset = dataset.replace('?','-9')\n",
    "dataset = dataset.astype(float)"
   ]
  },
  {
   "cell_type": "code",
   "execution_count": 182,
   "metadata": {
    "collapsed": false
   },
   "outputs": [
    {
     "data": {
      "text/plain": [
       "120"
      ]
     },
     "execution_count": 182,
     "metadata": {},
     "output_type": "execute_result"
    }
   ],
   "source": [
    "dataset_missing_2 = dataset[dataset[2]==-9]\n",
    "dataset_missing_3 = dataset[dataset[3]==-9]\n",
    "dataset_missing_4 = dataset[dataset[4]==-9]\n",
    "df_missing = pd.concat([dataset_missing_2,dataset_missing_3,dataset_missing_4],axis=0)\n",
    "len(df_missing.drop_duplicates())"
   ]
  },
  {
   "cell_type": "code",
   "execution_count": 183,
   "metadata": {
    "collapsed": false
   },
   "outputs": [
    {
     "data": {
      "text/plain": [
       "2728"
      ]
     },
     "execution_count": 183,
     "metadata": {},
     "output_type": "execute_result"
    }
   ],
   "source": [
    "dataset_full_2 = dataset[dataset[2]!=-9]\n",
    "dataset_full_3 = dataset[dataset[3]!=-9]\n",
    "dataset_full_4 = dataset[dataset[4]!=-9]\n",
    "df_full = pd.concat([dataset_full_2,dataset_full_3,dataset_full_4])\n",
    "len(df_full)"
   ]
  },
  {
   "cell_type": "code",
   "execution_count": 193,
   "metadata": {
    "collapsed": false
   },
   "outputs": [
    {
     "name": "stdout",
     "output_type": "stream",
     "text": [
      "0\n",
      "3.94485592842\n",
      "0\n",
      "5.32927203178\n",
      "0\n",
      "3.55731582642\n",
      "0\n",
      "3.76141405106\n",
      "0\n",
      "4.64261007309\n",
      "0\n",
      "3.71668314934\n",
      "0\n",
      "3.66151595116\n",
      "0\n",
      "4.55732703209\n",
      "0\n",
      "3.72569894791\n",
      "0\n",
      "3.8392829895\n",
      "0\n",
      "4.75158691406\n",
      "0\n",
      "3.68458104134\n",
      "0\n",
      "3.68009400368\n",
      "0\n",
      "4.69194984436\n",
      "0\n",
      "3.73195791245\n",
      "0\n",
      "4.27869200706\n",
      "0\n",
      "5.41745209694\n",
      "0\n",
      "4.3495528698\n",
      "0\n",
      "4.13234901428\n",
      "0\n",
      "5.14202618599\n",
      "0\n",
      "4.16237306595\n",
      "0\n",
      "4.20439004898\n",
      "0\n",
      "5.78351712227\n",
      "0\n",
      "4.46019506454\n",
      "0\n",
      "4.98716402054\n",
      "0\n",
      "5.19582796097\n",
      "0\n",
      "4.15517783165\n",
      "0\n",
      "4.19972491264\n",
      "0\n",
      "5.08902096748\n",
      "0\n",
      "4.08922719955\n",
      "0\n",
      "4.76993894577\n",
      "0\n",
      "5.97108411789\n",
      "0\n",
      "4.90476703644\n",
      "0\n",
      "5.06469106674\n",
      "0\n",
      "6.05711889267\n",
      "0\n",
      "4.76413607597\n",
      "0\n",
      "4.73579287529\n",
      "0\n",
      "5.92962598801\n",
      "0\n",
      "4.68496489525\n",
      "0\n",
      "4.8531908989\n",
      "0\n",
      "6.01506996155\n",
      "0\n",
      "4.7383248806\n",
      "0\n",
      "4.62523007393\n",
      "0\n",
      "5.83635687828\n",
      "0\n",
      "4.5961561203\n",
      "0\n",
      "5.45538783073\n",
      "0\n",
      "6.87733697891\n",
      "0\n",
      "5.52244210243\n",
      "0\n",
      "6.03913211823\n",
      "0\n",
      "11.6511721611\n",
      "0\n",
      "8.35593509674\n",
      "0\n",
      "5.89339399338\n",
      "0\n",
      "8.02489709854\n",
      "0\n",
      "5.6816110611\n",
      "0\n",
      "6.0480389595\n",
      "0\n",
      "6.8912191391\n",
      "0\n",
      "5.55420207977\n",
      "0\n",
      "5.58987498283\n",
      "0\n",
      "7.15979909897\n",
      "0\n",
      "5.96448993683\n",
      "0\n",
      "6.49665093422\n",
      "0\n",
      "7.9495279789\n",
      "0\n",
      "6.40118098259\n",
      "0\n",
      "6.29155087471\n",
      "0\n",
      "7.73435497284\n",
      "0\n",
      "6.21711301804\n",
      "0\n",
      "6.21604204178\n",
      "0\n",
      "7.64569306374\n",
      "0\n",
      "6.14953494072\n",
      "0\n",
      "6.09343719482\n",
      "0\n",
      "7.60553097725\n",
      "0\n",
      "6.02468299866\n",
      "0\n",
      "6.15819001198\n",
      "0\n",
      "7.6017408371\n",
      "0\n",
      "6.07150101662\n",
      "0\n",
      "7.53831410408\n",
      "0\n",
      "9.35587692261\n",
      "0\n",
      "7.4780049324\n",
      "0\n",
      "7.35681700706\n",
      "0\n",
      "9.19171404839\n",
      "0\n",
      "7.70509600639\n",
      "0\n",
      "7.78106808662\n",
      "0\n",
      "9.4484770298\n",
      "0\n",
      "7.49735689163\n",
      "0\n",
      "7.30694484711\n",
      "0\n",
      "9.12924695015\n",
      "0\n",
      "7.33471989632\n",
      "0\n",
      "7.66315698624\n",
      "0\n",
      "9.40246677399\n",
      "0\n",
      "7.49654197693\n",
      "0\n",
      "9.88020586967\n",
      "0\n",
      "12.3429508209\n",
      "0\n",
      "9.83093190193\n",
      "0\n",
      "9.79881215096\n",
      "0\n",
      "12.1398890018\n",
      "0\n",
      "9.7564458847\n",
      "0\n",
      "9.90494203568\n",
      "0\n",
      "12.4286661148\n",
      "0\n",
      "9.83781218529\n",
      "0\n",
      "10.1691169739\n",
      "0\n",
      "12.6206700802\n",
      "0\n",
      "9.94053983688\n",
      "0\n",
      "9.70873188972\n",
      "0\n",
      "12.2017889023\n",
      "0\n",
      "9.67997407913\n",
      "0\n",
      "12.2170300484\n",
      "0\n",
      "14.7392580509\n",
      "0\n",
      "11.7699210644\n",
      "0\n",
      "11.6592001915\n",
      "0\n",
      "14.5356509686\n",
      "0\n",
      "11.5142459869\n",
      "0\n",
      "11.1962771416\n",
      "0\n",
      "14.0076158047\n",
      "0\n",
      "11.2133111954\n",
      "0\n",
      "11.2726428509\n",
      "0\n",
      "14.2046148777\n",
      "0\n",
      "11.1678481102\n",
      "0\n",
      "11.1773371696\n",
      "0\n",
      "13.9792568684\n",
      "0\n",
      "11.3293011189\n"
     ]
    }
   ],
   "source": [
    "n_sample = [50,75,100,150,200,300,500,700]\n",
    "\n",
    "score_stand = []\n",
    "score_fancy = []\n",
    "for n in n_sample:\n",
    "    temp_stand = []\n",
    "    temp_fancy = []\n",
    "    for i in range(5):\n",
    "        df_full_sample = df_full.sample(n=n)\n",
    "        df = pd.concat([df_full_sample, df_missing],axis=0)\n",
    "        df = df.drop_duplicates()\n",
    "\n",
    "        model_2 = fill_missing_data(df[2], z = 4)\n",
    "        model_3 = fill_missing_data(df[3], z = 4)\n",
    "        model_4 = fill_missing_data(df[4], z = 4)\n",
    "\n",
    "        dataset_fancy = np.copy(df)\n",
    "        dataset_fancy[:,2] = model_2.reshape((len(model_2),))\n",
    "        dataset_fancy[:,3] = model_3.reshape((len(model_3),))\n",
    "        dataset_fancy[:,4] =  model_4.reshape((len(model_4),))\n",
    "\n",
    "        train_indices = np.random.uniform(size=len(dataset_fancy)) > 1. / 3.\n",
    "\n",
    "        train = pd.DataFrame(df[train_indices])\n",
    "        test = pd.DataFrame(df[~train_indices])\n",
    "        col2_mean = np.mean(train[2][train[2]>-1])\n",
    "        col3_mean = np.mean(train[3][train[3]>-1])\n",
    "        col4_mean = np.mean(train[4][train[4]>-1])\n",
    "        train[2] = train[2].replace(-9,col2_mean)\n",
    "        train[3] = train[3].replace(-9,col3_mean)\n",
    "        train[4] = train[4].replace(-9,col4_mean)\n",
    "\n",
    "\n",
    "        col2_mean = np.mean(test[2][test[2]>-9])\n",
    "        col3_mean = np.mean(test[3][test[3]>-9])\n",
    "        col4_mean = np.mean(test[4][test[4]>-9])\n",
    "        test[2] = test[2].replace(-9,col2_mean)\n",
    "        test[3] = test[3].replace(-9,col3_mean)\n",
    "        test[4] = test[4].replace(-9,col4_mean)\n",
    "\n",
    "        standard = LogisticRegression()\n",
    "        standard.fit(train[[0,1,2,3,4]],train[5])\n",
    "        temp_stand.append(standard.score(test[[0,1,2,3,4]],test[5]))\n",
    "\n",
    "        train = dataset_fancy[train_indices]\n",
    "        test = dataset_fancy[~train_indices]\n",
    "        model = LogisticRegression()\n",
    "        model.fit(train[:,[0,1,2,3,4]],train[:,5])\n",
    "        temp_fancy.append(model.score(test[:,[0,1,2,3,4]],test[:,5]))\n",
    "    score_stand.append(np.mean(temp_stand))\n",
    "    score_fancy.append(np.mean(temp_fancy))"
   ]
  },
  {
   "cell_type": "code",
   "execution_count": 198,
   "metadata": {
    "collapsed": false
   },
   "outputs": [
    {
     "data": {
      "text/plain": [
       "<matplotlib.text.Text at 0x11f974210>"
      ]
     },
     "execution_count": 198,
     "metadata": {},
     "output_type": "execute_result"
    },
    {
     "data": {
      "image/png": "[encoded data removed]",
      "text/plain": [
       "<matplotlib.figure.Figure at 0x11f8d1390>"
      ]
     },
     "metadata": {},
     "output_type": "display_data"
    }
   ],
   "source": [
    "plt.plot(pd.DataFrame(n_sample).apply(lambda x: 120/(120.+x)).values,score_stand,label = 'standard')\n",
    "\n",
    "plt.plot(pd.DataFrame(n_sample).apply(lambda x: 120/(120.+x)).values,score_fancy,label = 'CPT-v')\n",
    "plt.legend()\n",
    "\n",
    "\n",
    "plt.xlabel('Percentage of Missing Data')\n",
    "plt.ylabel('R^2')\n",
    "plt.title('Altering Levels of Missingness \\n in Mammographic Data ')"
   ]
  },
  {
   "cell_type": "code",
   "execution_count": null,
   "metadata": {
    "collapsed": true
   },
   "outputs": [],
   "source": []
  }
 ],
 "metadata": {
  "anaconda-cloud": {},
  "kernelspec": {
   "display_name": "Python [Root]",
   "language": "python",
   "name": "Python [Root]"
  },
  "language_info": {
   "codemirror_mode": {
    "name": "ipython",
    "version": 2
   },
   "file_extension": ".py",
   "mimetype": "text/x-python",
   "name": "python",
   "nbconvert_exporter": "python",
   "pygments_lexer": "ipython2",
   "version": "2.7.12"
  }
 },
 "nbformat": 4,
 "nbformat_minor": 0
}
