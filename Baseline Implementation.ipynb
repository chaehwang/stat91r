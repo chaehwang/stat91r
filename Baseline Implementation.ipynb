{
 "cells": [
  {
   "cell_type": "markdown",
   "metadata": {},
   "source": [
    "# Unsupervised Learning with Non-Ignorable Missing Data"
   ]
  },
  {
   "cell_type": "markdown",
   "metadata": {},
   "source": [
    "Christine Hwang"
   ]
  },
  {
   "cell_type": "code",
   "execution_count": 1587,
   "metadata": {
    "collapsed": false
   },
   "outputs": [],
   "source": [
    "import numpy as np\n",
    "import pandas as pd\n",
    "from sklearn.linear_model import LinearRegression as Lin_Reg\n",
    "from sklearn.linear_model import Ridge as Ridge_Reg\n",
    "from sklearn.linear_model import LogisticRegression\n",
    "from sklearn.linear_model import Lasso as Lasso_Reg\n",
    "from statsmodels.regression.linear_model import OLS\n",
    "from sklearn.ensemble import RandomForestClassifier\n",
    "import sklearn.preprocessing as Preprocessing\n",
    "from sklearn.preprocessing import StandardScaler as Standardize\n",
    "import itertools as it\n",
    "import matplotlib\n",
    "import matplotlib.pyplot as plt\n",
    "import matplotlib.cm as cmx\n",
    "import matplotlib.colors as colors\n",
    "import scipy as sp\n",
    "from itertools import combinations\n",
    "%matplotlib inline\n",
    "import math"
   ]
  },
  {
   "cell_type": "markdown",
   "metadata": {},
   "source": [
    "## Summary of Paper"
   ]
  },
  {
   "cell_type": "markdown",
   "metadata": {},
   "source": [
    "### Overview\n",
    "Missing data is defined to be non-ignorable if it is not missing at random. Non-ignorable missing data causes the inference based on observed data to lead to biased parameter estimates and can affect the significance of your results. This paper attempts to use probabilistic models to fill in missing data to reduce this bias\n",
    "\n",
    "### Example\n",
    "In the scenario where you have netflix movie ratings, you are more likely to rate movies that you really enjoy or really dislike, but rarely rate movies that you are neutral about. Therefore, most of the missing data tends to be from these middle ratings and the distribution of the observed data is shifted to the right from the true distribution of copmletely filled data. In this scenario, the probability of observing a particular response depends on the value itself. Therefore, ignoring missing data can lead to biased parameter estimates. "
   ]
  },
  {
   "cell_type": "markdown",
   "metadata": {},
   "source": [
    "### Standard Mixture Model"
   ]
  },
  {
   "cell_type": "markdown",
   "metadata": {},
   "source": [
    "<img src=\"GraphicalModel.png\">"
   ]
  },
  {
   "cell_type": "markdown",
   "metadata": {},
   "source": [
    "This standard mixsture model shows a latent variable z behind each observation Y. In this example of a multinomial mixture model, $z_n$ represents the latent variable behind each entry which is pulled from a $\\theta_k$ prior. This means that there are k different latent variables that our multinomial distribution can come from. For each observed value given its latent variable, there is a $\\beta_{vmz}$ that represents the probability of any observation taking a specific value."
   ]
  },
  {
   "cell_type": "markdown",
   "metadata": {},
   "source": [
    "## Interpretation of the Model"
   ]
  },
  {
   "cell_type": "markdown",
   "metadata": {},
   "source": [
    "Just want to make sure I have the right interpretation of the distribution."
   ]
  },
  {
   "cell_type": "markdown",
   "metadata": {},
   "source": [
    "Let us consider the scenario where we represent the netflix movie ratings as a multinomial distribution. Then from the diagram above, $Y_{1n'}$ = the rating star count for movie 1 for person n' and we assume there are n # people. Then if $Y_{im}$ = v, that means that the star count for movie i from person m = v. To represent each $Y_m$ is a multinomial distribution, we will define it as Mult($\\theta_j$, M), where $\\theta_z$ = P(selecting word v from latent variable z) where M is the total number of ratings."
   ]
  },
  {
   "cell_type": "markdown",
   "metadata": {},
   "source": [
    "$z_n$ ~ Mult($\\pi$,1) \n"
   ]
  },
  {
   "cell_type": "markdown",
   "metadata": {},
   "source": [
    "$\\pi$ = [.3, .2, .1, .4]"
   ]
  },
  {
   "cell_type": "markdown",
   "metadata": {},
   "source": [
    "This means that the probability of having a latent variable $z_1$ = .3, $z_2$ = .2, etc.\n"
   ]
  },
  {
   "cell_type": "markdown",
   "metadata": {},
   "source": [
    "If we represent each $Y_{m}|z_i$ ~ Multi($\\theta_z$,N), we view $\\theta_z$ to be the probability distribution of ratings for a single movie. For example, $\\theta = [.1 .2 .7]$ means that the probability you give the movie 1 star is .1, probability you give it 2 stars is .2, and probability you give it three stars is .7, and you can set your M = N so that it follows a Multinomial($\\theta$, N). This is because N people give movie $m$ a rating and therefore the distribution of all the ratings that the N people could have given movie $m$ is Multinoimal given the $\\theta$."
   ]
  },
  {
   "cell_type": "markdown",
   "metadata": {},
   "source": [
    "Then the $\\beta$ estimates $\\theta$ is if we view $\\theta$ to be the probability distribution of ratings for a single movie. For example, $\\theta = [.1 .2 .7]$ means that the probability you give the movie 1 star is .1, probability you give it 2 stars is .2, and probability you give it three stars is .7, and you can set your M = N so that it follows a Multinomial($\\theta$, N). Then it would make sense that $Y_{m}$~Multi($\\beta$,N) which represents the ratings from N people for the $m^{th}$ movie."
   ]
  },
  {
   "cell_type": "markdown",
   "metadata": {},
   "source": [
    "### CPT-v Model"
   ]
  },
  {
   "cell_type": "markdown",
   "metadata": {},
   "source": [
    "<img src=\"Model2.png\">"
   ]
  },
  {
   "cell_type": "markdown",
   "metadata": {},
   "source": [
    "We extrapolate from the previous model to show the missing data. $\\mu_v$ = $P(R_m = 1 | Y_m = v)$, whic his the probability the value is missing given the true value of the data. In our movie rating example, this probability is higher is $Y_m = 2-3$ because we are less likely to see a rating for a mediocre movie. Need to clarify previous questions before analyzing this model further."
   ]
  },
  {
   "cell_type": "markdown",
   "metadata": {},
   "source": [
    "## Medical Application"
   ]
  },
  {
   "cell_type": "markdown",
   "metadata": {},
   "source": [
    "I hope to apply this model of missing data to medical data. For example, in data analyzing blood pressure or cholesterol, we may see that the probability of seeing missing values for younger, healthier people is higher than for older people because they are less likely to have health complications that require these measurements. Doctors may assume that these measurements are not necessary for the checkup and therefore the data will not be missing at random. In order to use this probabilistic model to fill in missing values, I need to understanding how these categorical variables (if you just convert them to integers) can represent a multinomial distribution. If a person's blood pressure can take the values [10, 50, 100], and our $\\theta = [.2 .2 .6]$, does this mean that the person's blood pressure = Multinomial($\\theta$, 1)? "
   ]
  },
  {
   "cell_type": "markdown",
   "metadata": {},
   "source": [
    "## Baseline Implementation"
   ]
  },
  {
   "cell_type": "markdown",
   "metadata": {},
   "source": [
    "<img src=\"EM.png\">"
   ]
  },
  {
   "cell_type": "markdown",
   "metadata": {},
   "source": [
    "$\\phi_{zn}$ = posterior distribution of the latent variable z "
   ]
  },
  {
   "cell_type": "markdown",
   "metadata": {},
   "source": [
    "$\\theta_z$ = probability of that latent variable Z = z"
   ]
  },
  {
   "cell_type": "markdown",
   "metadata": {},
   "source": [
    "$\\beta_{vmz}$ = probability that Y = v given latent variable"
   ]
  },
  {
   "cell_type": "markdown",
   "metadata": {},
   "source": [
    "$\\mu_v$ = probability that $Y_i$ is missing given is has value v."
   ]
  },
  {
   "cell_type": "markdown",
   "metadata": {},
   "source": [
    "$\\gamma$ and $\\lambda$ are intermediate variables without interpretable value."
   ]
  },
  {
   "cell_type": "markdown",
   "metadata": {},
   "source": [
    "$\\delta = I(y_{mn} = v)$\n"
   ]
  },
  {
   "cell_type": "markdown",
   "metadata": {},
   "source": [
    "## Priors"
   ]
  },
  {
   "cell_type": "markdown",
   "metadata": {},
   "source": [
    "$u_v$ comes from a beta distribution because it is a prior for a Binomial Distribution\n",
    "\n",
    "$\\theta$ comes from a Dirichlet distribution\n",
    "\n",
    "$\\beta$ comes from a dirichlet distribution"
   ]
  },
  {
   "cell_type": "markdown",
   "metadata": {},
   "source": [
    "### Generate Full Data\n",
    "I created the probability distribution of movies for there different movies. Movie 1 is a bad movie that is likely to get a lot of 1s. Beta 2 is just an average movie whose ratings will resemble a normal distribution centered at 3. Movie 3 is a great movie that is likely to get very high reviews. Concatentate these ratings to get your full data set of 100 movie ratings for these 3 movies."
   ]
  },
  {
   "cell_type": "markdown",
   "metadata": {},
   "source": [
    "## Question:\n",
    "I don't think I'm coding this correctly so that the reviews are consistent with each person.. Walk through approach and ask if it makes intuitive sense"
   ]
  },
  {
   "cell_type": "code",
   "execution_count": 1650,
   "metadata": {
    "collapsed": false
   },
   "outputs": [],
   "source": [
    "def simulate_data(z=1, n = 100, m = 3, v = 5):\n",
    "    \n",
    "    ### create the different betas\n",
    "    #########\n",
    "    # If there are three latent variables, then each movie will have 3 sets of probability distributions\n",
    "    # because there can be \"teen, young adult, old people\" categories that have different movie preferences.\n",
    "    #\n",
    "    # Input: z = 3, m = 3\n",
    "    # Output: [ (z1:m1 rating),(z1:m2 rating), (z1:m3 rating), (z2:m1 rating), etc]\n",
    "    #\n",
    "    #########\n",
    "    all_beta = []\n",
    "    for z_ in range(z):\n",
    "        beta = []\n",
    "        for m_ in range(m):\n",
    "            beta_temp = np.random.dirichlet(np.ones(v),size=1)[0]\n",
    "            beta.append(beta_temp)\n",
    "        all_beta.append(beta)\n",
    "        \n",
    "#     theta = np.random.dirichlet(np.ones(z),size = 1)[0]\n",
    "    # Generates which latent variable each user comes from    \n",
    "    z_list = np.random.randint(1,z+1,n)\n",
    "    complete_data = np.zeros((n,m))\n",
    "    for i in range(len(z_list)):\n",
    "        for m_ in range(m):\n",
    "            complete_data[i][m_] = np.argmax(np.random.multinomial(1,list(all_beta[z_list[i]-1][m_])))+1\n",
    "    return complete_data, all_beta,z_list"
   ]
  },
  {
   "cell_type": "code",
   "execution_count": 1609,
   "metadata": {
    "collapsed": false
   },
   "outputs": [],
   "source": [
    "# z=3\n",
    "# m = 5\n",
    "# v = 5\n",
    "# n = 1000\n",
    "# complete_data,true_beta,z_list = simulate_data(z = z,n=n,m=m)"
   ]
  },
  {
   "cell_type": "markdown",
   "metadata": {},
   "source": [
    "### Mu Initialization"
   ]
  },
  {
   "cell_type": "markdown",
   "metadata": {},
   "source": [
    "In the paper in study, we let $\\mu_v(s)$ = $s$($v$ − 3) + 0.5, where $s$ is the parameter that controls the strength of the effect. I will set $s$ = .075. "
   ]
  },
  {
   "cell_type": "markdown",
   "metadata": {},
   "source": [
    "In terms of the example of a movie rating, It makes more sense that the movie will be missing reviews it is a neutral movie than a bad movie. Therefore, I reversed the probability so that it more resembles a bell shaped distribution where the probability of the rating being missing peaks when star = 3."
   ]
  },
  {
   "cell_type": "code",
   "execution_count": 1610,
   "metadata": {
    "collapsed": false
   },
   "outputs": [],
   "source": [
    "# for i in range(v):\n",
    "#     mu[i] = -.075*abs(i-2)+.5\n",
    "# mu"
   ]
  },
  {
   "cell_type": "markdown",
   "metadata": {},
   "source": [
    "### Pattern for Missing Data (R)"
   ]
  },
  {
   "cell_type": "markdown",
   "metadata": {},
   "source": [
    "Given this, we want to create a matrix that indicates 1 if the data is observed and 0 otherwise."
   ]
  },
  {
   "cell_type": "markdown",
   "metadata": {},
   "source": [
    "### Pull $\\theta, \\beta$ from Dirichlet"
   ]
  },
  {
   "cell_type": "markdown",
   "metadata": {},
   "source": [
    "Because $\\theta$ and $\\beta$ are good priors for categorical distribution and multinomial distributions, they are appropriate priors for $\\theta$ and $\\beta$ because both represent the probability of taking a specific categorical value."
   ]
  },
  {
   "cell_type": "code",
   "execution_count": 1651,
   "metadata": {
    "collapsed": false
   },
   "outputs": [],
   "source": [
    "#### proxy for when it found convergence rather than iterating but very volatile results that don't really converge\n",
    "#### if i set epsilon to be smaller?\n",
    "\n",
    "def run_EM(theta,beta,phi,gamma,mu,lambda_,v,m,z,n,complete_data,r):\n",
    "    import time\n",
    "\n",
    "    start = time.time()\n",
    "    \n",
    "    ### store the past\n",
    "    past_beta = np.zeros((v,m,z))\n",
    "    past_gamma = np.zeros((m,z,n))\n",
    "    past_phi = np.zeros((z,n))\n",
    "    past_mu = np.zeros(v)\n",
    "    past_lambda_ = np.zeros((v,m,z,n))\n",
    "    past_theta = np.zeros(z)\n",
    "    \n",
    "    counter= 0\n",
    "    \n",
    "    eps = .01\n",
    "#     while(abs(past_beta-beta).sum() > eps and abs(past_gamma-gamma).sum() > eps and abs(past_mu-mu).sum() > eps and\n",
    "#          abs(past_phi-phi).sum() > eps and abs(past_lambda_-lambda_).sum() > eps and abs(past_theta-theta).sum() > eps): \n",
    "    for i in range(100):    \n",
    "\n",
    "        ### E step\n",
    "        past_phi = np.copy(phi)\n",
    "        past_lambda_ = np.copy(lambda_)\n",
    "        past_theta = np.copy(theta)\n",
    "        past_beta = np.copy(beta)\n",
    "        past_gamma = np.copy(gamma)\n",
    "        past_mu = np.copy(mu)\n",
    "        ###### lambda\n",
    "        for v_ in range(v):\n",
    "            for m_ in range(m):\n",
    "                for z_ in range(z):\n",
    "                    for n_ in range(n):\n",
    "                        lambda_[v_][m_][z_][n_] = ((complete_data[n_][m_]==(v_+1))*mu[v_]*beta[v_][m_][z_])**r[n_][m_]*((1-mu[v_])*beta[v_][m_][z_])**(1-r[n_][m_])\n",
    "\n",
    "\n",
    "        ###### gamma\n",
    "        gamma = lambda_.sum(axis = 0)\n",
    "\n",
    "        ##### vectorized phi\n",
    "        phi = np.tile(theta, (n,1)).T*gamma.prod(axis = 0)/(np.tile(theta, (n,1)).T*gamma.prod(axis = 0)).sum(axis=0)\n",
    "\n",
    "\n",
    "        ### M step\n",
    "        theta = phi.sum(axis=1)/phi.sum()\n",
    "\n",
    "        #vectorized beta\n",
    "        for v_ in range(v):\n",
    "            for m_ in range(m):\n",
    "                for z_ in range(z):\n",
    "                    sum_ = 0\n",
    "                    for n_ in range(n):\n",
    "                        sum_ += phi[z_][n_]*lambda_[v_][m_][z_][n_]/gamma[m_][z_][n_]\n",
    "                    beta[v_][m_][z_] = sum_\n",
    "\n",
    "        beta = beta/phi.sum(axis=1)\n",
    "\n",
    "\n",
    "        ######mu\n",
    "        for v_ in range(v):\n",
    "            num = 0\n",
    "            denom = 0\n",
    "            for n_ in range(n):\n",
    "                for z_ in range(z):\n",
    "                    for m_ in range(m):\n",
    "                        num += phi[z_][n_]*r[n_][m_]*lambda_[v_][m_][z_][n_]/gamma[m_][z_][n_]\n",
    "                        denom += phi[z_][n_]*lambda_[v_][m_][z_][n_]/gamma[m_][z_][n_]\n",
    "            mu[v_] = num/denom\n",
    "\n",
    "        if counter % 100 == 0:\n",
    "            print counter\n",
    "        counter += 1\n",
    "    end = time.time()\n",
    "    print(end - start)  \n",
    "    return mu,gamma,phi,beta,theta,lambda_"
   ]
  },
  {
   "cell_type": "code",
   "execution_count": 1652,
   "metadata": {
    "collapsed": true
   },
   "outputs": [],
   "source": [
    "def create_prior(v,m,z,n):\n",
    "    #mu\n",
    "    mu = np.ones(v)\n",
    "    for i in range(v):\n",
    "        mu[i] = -.075*abs(i-2)+.5\n",
    "    if z == 1:\n",
    "        theta = [1]\n",
    "    else:\n",
    "        c = ()\n",
    "        for i in range(z):\n",
    "            c = (1,)+c\n",
    "            \n",
    "        theta = np.random.dirichlet(c,1).reshape((z,))\n",
    "    c = ()\n",
    "    for m_ in range(v):\n",
    "        c = (1,) + c\n",
    "    beta = np.random.dirichlet(c,(z,m)).transpose()\n",
    "    \n",
    "    phi = np.random.random((z,n))\n",
    "    gamma = np.random.random((m,z,n))\n",
    "    lambda_ = np.random.random((v,m,z,n))\n",
    "    \n",
    "    return mu,theta,beta,phi,gamma,lambda_\n"
   ]
  },
  {
   "cell_type": "code",
   "execution_count": 1653,
   "metadata": {
    "collapsed": true
   },
   "outputs": [],
   "source": [
    "def calculate_missing(n,m,complete_data,mu):\n",
    "    ####### R matrix that decides which values are missing\n",
    "    r = np.ones((n,m))\n",
    "    for n_ in range(n):\n",
    "        for m_ in range(m):\n",
    "            val = complete_data[n_][m_]\n",
    "            if np.random.rand(1) < mu[val-1]:\n",
    "                r[n_][m_] = 0\n",
    "    return r\n",
    "                "
   ]
  },
  {
   "cell_type": "code",
   "execution_count": 1654,
   "metadata": {
    "collapsed": true
   },
   "outputs": [],
   "source": [
    "def missing_value_filled_in(mu,phi,beta,n,m,missing_data,sample,replace = 0):\n",
    "    \n",
    "    ### fills in the data\n",
    "    for n_ in range(n):\n",
    "        for m_ in range(m):\n",
    "            latent = np.argmax(phi[:,n_])\n",
    "            if missing_data[n_][m_] == replace:\n",
    "                temp = []\n",
    "                for i in range(sample):\n",
    "                    temp.append(np.argmax(np.random.multinomial(1, beta[:,m_,latent]))+1)\n",
    "                missing_data[n_][m_] = np.mean(temp)\n",
    "       \n",
    "    return missing_data"
   ]
  },
  {
   "cell_type": "code",
   "execution_count": 1661,
   "metadata": {
    "collapsed": true
   },
   "outputs": [],
   "source": [
    "z=1\n",
    "m = 5\n",
    "v = 5\n",
    "n = 1000\n",
    "complete_data,true_beta,z_list = simulate_data(z = z,n=n,m=m)"
   ]
  },
  {
   "cell_type": "code",
   "execution_count": 1662,
   "metadata": {
    "collapsed": false
   },
   "outputs": [],
   "source": [
    "mu,theta,beta,phi,gamma,lambda_ = create_prior(v,m,z,n)"
   ]
  },
  {
   "cell_type": "code",
   "execution_count": 1663,
   "metadata": {
    "collapsed": false
   },
   "outputs": [
    {
     "name": "stderr",
     "output_type": "stream",
     "text": [
      "/Users/ChrsitineHwang/anaconda/lib/python2.7/site-packages/ipykernel/__main__.py:7: VisibleDeprecationWarning: using a non-integer number instead of an integer will result in an error in the future\n"
     ]
    }
   ],
   "source": [
    "r = calculate_missing(n,m,complete_data,mu)"
   ]
  },
  {
   "cell_type": "code",
   "execution_count": 1678,
   "metadata": {
    "collapsed": false
   },
   "outputs": [],
   "source": [
    "target_var = complete_data[:,0]+complete_data[:,1] + complete_data[:,2]+complete_data[:,3]-complete_data[:,4]+np.random.normal(0,1,len(complete_data[:,0]))"
   ]
  },
  {
   "cell_type": "code",
   "execution_count": 1668,
   "metadata": {
    "collapsed": false
   },
   "outputs": [
    {
     "name": "stdout",
     "output_type": "stream",
     "text": [
      "0\n",
      "36.4200768471\n"
     ]
    }
   ],
   "source": [
    "mu,gamma,phi,beta,theta,lambda_ = run_EM(theta,beta,phi,gamma,mu,lambda_,v,m,z,n,complete_data*r,r)"
   ]
  },
  {
   "cell_type": "code",
   "execution_count": 1669,
   "metadata": {
    "collapsed": false
   },
   "outputs": [
    {
     "data": {
      "text/plain": [
       "array([[ 0.,  0.,  1.,  0.,  0.],\n",
       "       [ 5.,  4.,  0.,  0.,  2.],\n",
       "       [ 1.,  4.,  0.,  4.,  5.],\n",
       "       ..., \n",
       "       [ 1.,  0.,  5.,  0.,  0.],\n",
       "       [ 5.,  4.,  1.,  2.,  0.],\n",
       "       [ 0.,  0.,  0.,  0.,  0.]])"
      ]
     },
     "execution_count": 1669,
     "metadata": {},
     "output_type": "execute_result"
    }
   ],
   "source": [
    "missing_data = r*complete_data\n",
    "missing_data"
   ]
  },
  {
   "cell_type": "code",
   "execution_count": 1679,
   "metadata": {
    "collapsed": false
   },
   "outputs": [
    {
     "name": "stderr",
     "output_type": "stream",
     "text": [
      "/Users/ChrsitineHwang/anaconda/lib/python2.7/site-packages/ipykernel/__main__.py:7: UserWarning: With alpha=0, this algorithm does not converge well. You are advised to use the LinearRegression estimator\n"
     ]
    }
   ],
   "source": [
    "n_sample = [1,5,10,15,20,30,40]\n",
    "score = []\n",
    "for n_ in n_sample:\n",
    "    model_filled_in = missing_value_filled_in(mu,phi,beta,n,m,np.copy(missing_data),n_)\n",
    "    \n",
    "    lasso = Lasso_Reg(alpha = 0)\n",
    "    lasso.fit(np.array(model_filled_in),target_var)\n",
    "    score.append(lasso.score(np.array(model_filled_in),target_var))"
   ]
  },
  {
   "cell_type": "code",
   "execution_count": 1680,
   "metadata": {
    "collapsed": false
   },
   "outputs": [
    {
     "data": {
      "text/plain": [
       "[0.34882027559103845,\n",
       " 0.50117252853545358,\n",
       " 0.52796287753056048,\n",
       " 0.53213095205379801,\n",
       " 0.54301554105336702,\n",
       " 0.54361394217460668,\n",
       " 0.54262173250854739]"
      ]
     },
     "execution_count": 1680,
     "metadata": {},
     "output_type": "execute_result"
    }
   ],
   "source": [
    "score"
   ]
  },
  {
   "cell_type": "code",
   "execution_count": 1691,
   "metadata": {
    "collapsed": false
   },
   "outputs": [
    {
     "data": {
      "text/plain": [
       "<matplotlib.text.Text at 0x11e4b60d0>"
      ]
     },
     "execution_count": 1691,
     "metadata": {},
     "output_type": "execute_result"
    },
    {
     "data": {
      "image/png": "[encoded data removed]",
      "text/plain": [
       "<matplotlib.figure.Figure at 0x11e2e8a50>"
      ]
     },
     "metadata": {},
     "output_type": "display_data"
    }
   ],
   "source": [
    "plt.plot(n_sample,score)\n",
    "plt.ylabel('R^2')\n",
    "plt.xlabel('n_sample')\n",
    "plt.title('N_Sample vs R^2 Tradeoff')"
   ]
  },
  {
   "cell_type": "code",
   "execution_count": 1681,
   "metadata": {
    "collapsed": false
   },
   "outputs": [],
   "source": [
    "def standard_imputation(missing_data):\n",
    "    column_names = missing_data.columns\n",
    "    for col in column_names:\n",
    "        col_mean = np.mean(missing_data[col])\n",
    "        for i in range(len(missing_data[col])):\n",
    "            if missing_data[col][i] == 0:\n",
    "                missing_data[col][i] = col_mean\n",
    "    print missing_data.shape\n",
    "    return missing_data"
   ]
  },
  {
   "cell_type": "code",
   "execution_count": 1682,
   "metadata": {
    "collapsed": false
   },
   "outputs": [
    {
     "name": "stdout",
     "output_type": "stream",
     "text": [
      "(1000, 5)\n"
     ]
    }
   ],
   "source": [
    "standard_missing_data = standard_imputation(pd.DataFrame(np.copy(missing_data)))\n"
   ]
  },
  {
   "cell_type": "code",
   "execution_count": 1683,
   "metadata": {
    "collapsed": false
   },
   "outputs": [
    {
     "name": "stdout",
     "output_type": "stream",
     "text": [
      "0.542621732509\n"
     ]
    },
    {
     "name": "stderr",
     "output_type": "stream",
     "text": [
      "/Users/ChrsitineHwang/anaconda/lib/python2.7/site-packages/ipykernel/__main__.py:2: UserWarning: With alpha=0, this algorithm does not converge well. You are advised to use the LinearRegression estimator\n",
      "  from ipykernel import kernelapp as app\n"
     ]
    }
   ],
   "source": [
    "lasso = Lasso_Reg(alpha = 0)\n",
    "lasso.fit(np.array(model_filled_in),target_var)\n",
    "print lasso.score(np.array(model_filled_in),target_var)"
   ]
  },
  {
   "cell_type": "code",
   "execution_count": 1684,
   "metadata": {
    "collapsed": false
   },
   "outputs": [
    {
     "name": "stdout",
     "output_type": "stream",
     "text": [
      "0.445373732626\n"
     ]
    },
    {
     "name": "stderr",
     "output_type": "stream",
     "text": [
      "/Users/ChrsitineHwang/anaconda/lib/python2.7/site-packages/ipykernel/__main__.py:2: UserWarning: With alpha=0, this algorithm does not converge well. You are advised to use the LinearRegression estimator\n",
      "  from ipykernel import kernelapp as app\n"
     ]
    }
   ],
   "source": [
    "lasso = Lasso_Reg(alpha = 0)\n",
    "lasso.fit(np.array(standard_missing_data),target_var)\n",
    "print lasso.score(np.array(standard_missing_data),target_var)"
   ]
  },
  {
   "cell_type": "code",
   "execution_count": 1685,
   "metadata": {
    "collapsed": false
   },
   "outputs": [
    {
     "name": "stdout",
     "output_type": "stream",
     "text": [
      "0.914360810516\n"
     ]
    },
    {
     "name": "stderr",
     "output_type": "stream",
     "text": [
      "/Users/ChrsitineHwang/anaconda/lib/python2.7/site-packages/ipykernel/__main__.py:2: UserWarning: With alpha=0, this algorithm does not converge well. You are advised to use the LinearRegression estimator\n",
      "  from ipykernel import kernelapp as app\n"
     ]
    }
   ],
   "source": [
    "lasso = Lasso_Reg(alpha = 0)\n",
    "lasso.fit(np.array(complete_data),target_var)\n",
    "print lasso.score(np.array(complete_data),target_var)"
   ]
  },
  {
   "cell_type": "markdown",
   "metadata": {},
   "source": [
    "### Time Markdown\n",
    "With the previous brute force method for phi, the time it took to run 10,000 iterations was 277.\n",
    "\n",
    "\n",
    "With the vectorized method for phi, the time it took to run 10,000 iterations was 256.\n",
    "\n",
    "\n",
    "After vectorizing the denominator of beta, it sped up to 235.\n",
    "\n",
    "Using the convergence proxy, I clearly don't need 10,000 iterations so maybe vectorizing not entirelly necessary"
   ]
  },
  {
   "cell_type": "markdown",
   "metadata": {},
   "source": [
    "# Multiple latent variable progress"
   ]
  },
  {
   "cell_type": "code",
   "execution_count": 1693,
   "metadata": {
    "collapsed": false
   },
   "outputs": [
    {
     "name": "stderr",
     "output_type": "stream",
     "text": [
      "/Users/ChrsitineHwang/anaconda/lib/python2.7/site-packages/ipykernel/__main__.py:7: VisibleDeprecationWarning: using a non-integer number instead of an integer will result in an error in the future\n"
     ]
    },
    {
     "name": "stdout",
     "output_type": "stream",
     "text": [
      "0\n",
      "178.746155024\n",
      "(5000, 5)\n"
     ]
    },
    {
     "name": "stderr",
     "output_type": "stream",
     "text": [
      "/Users/ChrsitineHwang/anaconda/lib/python2.7/site-packages/ipykernel/__main__.py:22: UserWarning: With alpha=0, this algorithm does not converge well. You are advised to use the LinearRegression estimator\n",
      "/Users/ChrsitineHwang/anaconda/lib/python2.7/site-packages/ipykernel/__main__.py:26: UserWarning: With alpha=0, this algorithm does not converge well. You are advised to use the LinearRegression estimator\n"
     ]
    },
    {
     "name": "stdout",
     "output_type": "stream",
     "text": [
      "0\n",
      "5471.58305383\n",
      "(5000, 5)\n",
      "0\n"
     ]
    },
    {
     "ename": "KeyboardInterrupt",
     "evalue": "",
     "output_type": "error",
     "traceback": [
      "\u001b[0;31m---------------------------------------------------------------------------\u001b[0m",
      "\u001b[0;31mKeyboardInterrupt\u001b[0m                         Traceback (most recent call last)",
      "\u001b[0;32m<ipython-input-1693-d423fb629f81>\u001b[0m in \u001b[0;36m<module>\u001b[0;34m()\u001b[0m\n\u001b[1;32m     11\u001b[0m         \u001b[0mmu\u001b[0m\u001b[0;34m,\u001b[0m\u001b[0mtheta\u001b[0m\u001b[0;34m,\u001b[0m\u001b[0mbeta\u001b[0m\u001b[0;34m,\u001b[0m\u001b[0mphi\u001b[0m\u001b[0;34m,\u001b[0m\u001b[0mgamma\u001b[0m\u001b[0;34m,\u001b[0m\u001b[0mlambda_\u001b[0m \u001b[0;34m=\u001b[0m \u001b[0mcreate_prior\u001b[0m\u001b[0;34m(\u001b[0m\u001b[0mv\u001b[0m\u001b[0;34m,\u001b[0m\u001b[0mm\u001b[0m\u001b[0;34m,\u001b[0m\u001b[0mz\u001b[0m\u001b[0;34m,\u001b[0m\u001b[0mn\u001b[0m\u001b[0;34m)\u001b[0m\u001b[0;34m\u001b[0m\u001b[0m\n\u001b[1;32m     12\u001b[0m         \u001b[0mr\u001b[0m \u001b[0;34m=\u001b[0m \u001b[0mcalculate_missing\u001b[0m\u001b[0;34m(\u001b[0m\u001b[0mn\u001b[0m\u001b[0;34m,\u001b[0m\u001b[0mm\u001b[0m\u001b[0;34m,\u001b[0m\u001b[0mcomplete_data\u001b[0m\u001b[0;34m,\u001b[0m\u001b[0mmu\u001b[0m\u001b[0;34m)\u001b[0m\u001b[0;34m\u001b[0m\u001b[0m\n\u001b[0;32m---> 13\u001b[0;31m         \u001b[0mmu\u001b[0m\u001b[0;34m,\u001b[0m\u001b[0mgamma\u001b[0m\u001b[0;34m,\u001b[0m\u001b[0mphi\u001b[0m\u001b[0;34m,\u001b[0m\u001b[0mbeta\u001b[0m\u001b[0;34m,\u001b[0m\u001b[0mtheta\u001b[0m\u001b[0;34m,\u001b[0m\u001b[0mlambda_\u001b[0m \u001b[0;34m=\u001b[0m \u001b[0mrun_EM\u001b[0m\u001b[0;34m(\u001b[0m\u001b[0mtheta\u001b[0m\u001b[0;34m,\u001b[0m\u001b[0mbeta\u001b[0m\u001b[0;34m,\u001b[0m\u001b[0mphi\u001b[0m\u001b[0;34m,\u001b[0m\u001b[0mgamma\u001b[0m\u001b[0;34m,\u001b[0m\u001b[0mmu\u001b[0m\u001b[0;34m,\u001b[0m\u001b[0mlambda_\u001b[0m\u001b[0;34m,\u001b[0m\u001b[0mv\u001b[0m\u001b[0;34m,\u001b[0m\u001b[0mm\u001b[0m\u001b[0;34m,\u001b[0m\u001b[0mz\u001b[0m\u001b[0;34m,\u001b[0m\u001b[0mn\u001b[0m\u001b[0;34m,\u001b[0m\u001b[0mcomplete_data\u001b[0m\u001b[0;34m,\u001b[0m\u001b[0mr\u001b[0m\u001b[0;34m)\u001b[0m\u001b[0;34m\u001b[0m\u001b[0m\n\u001b[0m\u001b[1;32m     14\u001b[0m         \u001b[0mmissing_data\u001b[0m \u001b[0;34m=\u001b[0m \u001b[0mr\u001b[0m\u001b[0;34m*\u001b[0m\u001b[0mcomplete_data\u001b[0m\u001b[0;34m\u001b[0m\u001b[0m\n\u001b[1;32m     15\u001b[0m         \u001b[0mmodel_filled_in\u001b[0m \u001b[0;34m=\u001b[0m \u001b[0mmissing_value_filled_in\u001b[0m\u001b[0;34m(\u001b[0m\u001b[0mmu\u001b[0m\u001b[0;34m,\u001b[0m\u001b[0mphi\u001b[0m\u001b[0;34m,\u001b[0m\u001b[0mbeta\u001b[0m\u001b[0;34m,\u001b[0m\u001b[0mn\u001b[0m\u001b[0;34m,\u001b[0m\u001b[0mm\u001b[0m\u001b[0;34m,\u001b[0m\u001b[0mnp\u001b[0m\u001b[0;34m.\u001b[0m\u001b[0mcopy\u001b[0m\u001b[0;34m(\u001b[0m\u001b[0mmissing_data\u001b[0m\u001b[0;34m)\u001b[0m\u001b[0;34m,\u001b[0m\u001b[0;36m10\u001b[0m\u001b[0;34m)\u001b[0m\u001b[0;34m\u001b[0m\u001b[0m\n",
      "\u001b[0;32m<ipython-input-1651-bfaf89c0f767>\u001b[0m in \u001b[0;36mrun_EM\u001b[0;34m(theta, beta, phi, gamma, mu, lambda_, v, m, z, n, complete_data, r)\u001b[0m\n\u001b[1;32m     34\u001b[0m                 \u001b[0;32mfor\u001b[0m \u001b[0mz_\u001b[0m \u001b[0;32min\u001b[0m \u001b[0mrange\u001b[0m\u001b[0;34m(\u001b[0m\u001b[0mz\u001b[0m\u001b[0;34m)\u001b[0m\u001b[0;34m:\u001b[0m\u001b[0;34m\u001b[0m\u001b[0m\n\u001b[1;32m     35\u001b[0m                     \u001b[0;32mfor\u001b[0m \u001b[0mn_\u001b[0m \u001b[0;32min\u001b[0m \u001b[0mrange\u001b[0m\u001b[0;34m(\u001b[0m\u001b[0mn\u001b[0m\u001b[0;34m)\u001b[0m\u001b[0;34m:\u001b[0m\u001b[0;34m\u001b[0m\u001b[0m\n\u001b[0;32m---> 36\u001b[0;31m                         \u001b[0mlambda_\u001b[0m\u001b[0;34m[\u001b[0m\u001b[0mv_\u001b[0m\u001b[0;34m]\u001b[0m\u001b[0;34m[\u001b[0m\u001b[0mm_\u001b[0m\u001b[0;34m]\u001b[0m\u001b[0;34m[\u001b[0m\u001b[0mz_\u001b[0m\u001b[0;34m]\u001b[0m\u001b[0;34m[\u001b[0m\u001b[0mn_\u001b[0m\u001b[0;34m]\u001b[0m \u001b[0;34m=\u001b[0m \u001b[0;34m(\u001b[0m\u001b[0;34m(\u001b[0m\u001b[0mcomplete_data\u001b[0m\u001b[0;34m[\u001b[0m\u001b[0mn_\u001b[0m\u001b[0;34m]\u001b[0m\u001b[0;34m[\u001b[0m\u001b[0mm_\u001b[0m\u001b[0;34m]\u001b[0m\u001b[0;34m==\u001b[0m\u001b[0;34m(\u001b[0m\u001b[0mv_\u001b[0m\u001b[0;34m+\u001b[0m\u001b[0;36m1\u001b[0m\u001b[0;34m)\u001b[0m\u001b[0;34m)\u001b[0m\u001b[0;34m*\u001b[0m\u001b[0mmu\u001b[0m\u001b[0;34m[\u001b[0m\u001b[0mv_\u001b[0m\u001b[0;34m]\u001b[0m\u001b[0;34m*\u001b[0m\u001b[0mbeta\u001b[0m\u001b[0;34m[\u001b[0m\u001b[0mv_\u001b[0m\u001b[0;34m]\u001b[0m\u001b[0;34m[\u001b[0m\u001b[0mm_\u001b[0m\u001b[0;34m]\u001b[0m\u001b[0;34m[\u001b[0m\u001b[0mz_\u001b[0m\u001b[0;34m]\u001b[0m\u001b[0;34m)\u001b[0m\u001b[0;34m**\u001b[0m\u001b[0mr\u001b[0m\u001b[0;34m[\u001b[0m\u001b[0mn_\u001b[0m\u001b[0;34m]\u001b[0m\u001b[0;34m[\u001b[0m\u001b[0mm_\u001b[0m\u001b[0;34m]\u001b[0m\u001b[0;34m*\u001b[0m\u001b[0;34m(\u001b[0m\u001b[0;34m(\u001b[0m\u001b[0;36m1\u001b[0m\u001b[0;34m-\u001b[0m\u001b[0mmu\u001b[0m\u001b[0;34m[\u001b[0m\u001b[0mv_\u001b[0m\u001b[0;34m]\u001b[0m\u001b[0;34m)\u001b[0m\u001b[0;34m*\u001b[0m\u001b[0mbeta\u001b[0m\u001b[0;34m[\u001b[0m\u001b[0mv_\u001b[0m\u001b[0;34m]\u001b[0m\u001b[0;34m[\u001b[0m\u001b[0mm_\u001b[0m\u001b[0;34m]\u001b[0m\u001b[0;34m[\u001b[0m\u001b[0mz_\u001b[0m\u001b[0;34m]\u001b[0m\u001b[0;34m)\u001b[0m\u001b[0;34m**\u001b[0m\u001b[0;34m(\u001b[0m\u001b[0;36m1\u001b[0m\u001b[0;34m-\u001b[0m\u001b[0mr\u001b[0m\u001b[0;34m[\u001b[0m\u001b[0mn_\u001b[0m\u001b[0;34m]\u001b[0m\u001b[0;34m[\u001b[0m\u001b[0mm_\u001b[0m\u001b[0;34m]\u001b[0m\u001b[0;34m)\u001b[0m\u001b[0;34m\u001b[0m\u001b[0m\n\u001b[0m\u001b[1;32m     37\u001b[0m \u001b[0;34m\u001b[0m\u001b[0m\n\u001b[1;32m     38\u001b[0m \u001b[0;34m\u001b[0m\u001b[0m\n",
      "\u001b[0;31mKeyboardInterrupt\u001b[0m: "
     ]
    }
   ],
   "source": [
    "z_range = range(1,10)\n",
    "rep = range(1,5)\n",
    "latent_score = []\n",
    "for z_ in z_range:\n",
    "    for i in rep:\n",
    "        z=z_\n",
    "        m = 5\n",
    "        v = 5\n",
    "        n = 5000\n",
    "        complete_data,true_beta,z_list = simulate_data(z = z,n=n,m=m)\n",
    "        mu,theta,beta,phi,gamma,lambda_ = create_prior(v,m,z,n)\n",
    "        r = calculate_missing(n,m,complete_data,mu)\n",
    "        mu,gamma,phi,beta,theta,lambda_ = run_EM(theta,beta,phi,gamma,mu,lambda_,v,m,z,n,complete_data,r)\n",
    "        missing_data = r*complete_data\n",
    "        model_filled_in = missing_value_filled_in(mu,phi,beta,n,m,np.copy(missing_data),10)\n",
    "        target_var = complete_data[:,0]+complete_data[:,1] + complete_data[:,2]+complete_data[:,3]-complete_data[:,4]+np.random.normal(0,1,len(complete_data[:,0]))\n",
    "\n",
    "        \n",
    "        standard_missing_data = standard_imputation(pd.DataFrame(np.copy(missing_data)))\n",
    "        \n",
    "        lasso = Lasso_Reg(alpha = 0)\n",
    "        lasso.fit(np.array(standard_missing_data),target_var)\n",
    "        standard_score =  lasso.score(np.array(standard_missing_data),target_var)\n",
    "        \n",
    "        lasso = Lasso_Reg(alpha = 0)\n",
    "        lasso.fit(np.array(model_filled_in),target_var)\n",
    "        model_score =  lasso.score(np.array(model_filled_in),target_var)\n",
    "        \n",
    "        \n",
    "        latent_score.append(model_score-standard_score)"
   ]
  },
  {
   "cell_type": "code",
   "execution_count": null,
   "metadata": {
    "collapsed": true
   },
   "outputs": [],
   "source": [
    "model_filled_in"
   ]
  },
  {
   "cell_type": "code",
   "execution_count": 239,
   "metadata": {
    "collapsed": false
   },
   "outputs": [
    {
     "name": "stdout",
     "output_type": "stream",
     "text": [
      "my model, 0.519206335835\n",
      "impute with mean 0.386073104787\n"
     ]
    },
    {
     "name": "stderr",
     "output_type": "stream",
     "text": [
      "/Users/ChrsitineHwang/anaconda/lib/python2.7/site-packages/ipykernel/__main__.py:3: UserWarning: With alpha=0, this algorithm does not converge well. You are advised to use the LinearRegression estimator\n",
      "  app.launch_new_instance()\n",
      "/Users/ChrsitineHwang/anaconda/lib/python2.7/site-packages/ipykernel/__main__.py:6: UserWarning: With alpha=0, this algorithm does not converge well. You are advised to use the LinearRegression estimator\n"
     ]
    },
    {
     "name": "stdout",
     "output_type": "stream",
     "text": [
      "complete data model 0.883765549852\n"
     ]
    }
   ],
   "source": [
    "print \"my model,\", lasso.score(np.array(model_filled_in),target_var)\n",
    "lasso = Lasso_Reg(alpha = 0)\n",
    "lasso.fit(np.array(standard_missing_data),target_var)\n",
    "print \"impute with mean\", lasso.score(np.array(standard_missing_data),target_var)\n",
    "lasso = Lasso_Reg(alpha = 0)\n",
    "lasso.fit(np.array(complete_data),target_var)\n",
    "print \"complete data model\",lasso.score(np.array(complete_data),target_var)"
   ]
  },
  {
   "cell_type": "markdown",
   "metadata": {},
   "source": [
    "# Using prediction for actual real DataSet (mammographic data UCI)"
   ]
  },
  {
   "cell_type": "markdown",
   "metadata": {},
   "source": [
    "# Testing for levels of missing ness"
   ]
  },
  {
   "cell_type": "code",
   "execution_count": 1416,
   "metadata": {
    "collapsed": true
   },
   "outputs": [],
   "source": [
    "def fill_missing_data(missing_data,z=1):\n",
    "    z=z\n",
    "    m = 1\n",
    "    v = int(missing_data.max())\n",
    "    n = len(missing_data)\n",
    "    \n",
    "    missing_data = missing_data.reshape((n,m))\n",
    "    mu_prior,theta_prior,beta_prior,phi_prior,gamma_prior,lambda_prior = create_prior(v,m,z,n)\n",
    "    r = np.array([ 1-(x== -9) for x in missing_data]).reshape((n,m))\n",
    "    mu,gamma,phi,beta,theta,lambda_ = run_EM(theta_prior,beta_prior,phi_prior,gamma_prior,mu_prior,lambda_prior,v,m,z,n,missing_data,r)\n",
    "    model_filled_in = missing_value_filled_in(mu,phi,beta,n,m,np.copy(missing_data),10,replace=-9)\n",
    "    return model_filled_in"
   ]
  },
  {
   "cell_type": "code",
   "execution_count": 1363,
   "metadata": {
    "collapsed": false
   },
   "outputs": [],
   "source": [
    "import urllib\n",
    "raw_data = urllib.urlopen(\"https://archive.ics.uci.edu/ml/machine-learning-databases/mammographic-masses/mammographic_masses.data\")"
   ]
  },
  {
   "cell_type": "code",
   "execution_count": 1364,
   "metadata": {
    "collapsed": false
   },
   "outputs": [],
   "source": [
    "dataset = np.loadtxt(raw_data,dtype = np.str_, delimiter=\",\")"
   ]
  },
  {
   "cell_type": "code",
   "execution_count": 1365,
   "metadata": {
    "collapsed": false
   },
   "outputs": [],
   "source": [
    "dataset = pd.DataFrame(dataset)"
   ]
  },
  {
   "cell_type": "code",
   "execution_count": 1366,
   "metadata": {
    "collapsed": false
   },
   "outputs": [],
   "source": [
    "dataset = dataset.replace('?','-9')\n",
    "dataset = dataset.astype(float)"
   ]
  },
  {
   "cell_type": "code",
   "execution_count": 1367,
   "metadata": {
    "collapsed": false
   },
   "outputs": [
    {
     "data": {
      "text/plain": [
       "155"
      ]
     },
     "execution_count": 1367,
     "metadata": {},
     "output_type": "execute_result"
    }
   ],
   "source": [
    "dataset_missing_2 = dataset[dataset[2]==-9]\n",
    "dataset_missing_3 = dataset[dataset[3]==-9]\n",
    "dataset_missing_4 = dataset[dataset[4]==-9]\n",
    "df_missing = pd.concat([dataset_missing_2,dataset_missing_3,dataset_missing_4],axis=0)\n",
    "len(df_missing)"
   ]
  },
  {
   "cell_type": "code",
   "execution_count": 1368,
   "metadata": {
    "collapsed": false
   },
   "outputs": [],
   "source": [
    "dataset_full_2 = dataset[dataset[2]!=-9]\n",
    "dataset_full_3 = dataset[dataset[3]!=-9]\n",
    "dataset_full_4 = dataset[dataset[4]!=-9]\n",
    "df_full = pd.concat([dataset_full_2,dataset_full_3,dataset_full_4])\n",
    "df_full = df_full.sample(n=400)\n",
    "len(df_full)\n",
    "df = pd.concat([df_full, df_missing],axis=0)\n",
    "df = df.drop_duplicates()"
   ]
  },
  {
   "cell_type": "code",
   "execution_count": 1369,
   "metadata": {
    "collapsed": false
   },
   "outputs": [
    {
     "name": "stdout",
     "output_type": "stream",
     "text": [
      "0\n",
      "2.46968793869\n",
      "0\n",
      "2.84946393967\n",
      "0\n",
      "2.12961101532\n"
     ]
    }
   ],
   "source": [
    "model_2 = fill_missing_data(df[2], z = 1)\n",
    "model_3 = fill_missing_data(df[3], z = 1)\n",
    "model_4 = fill_missing_data(df[4], z = 1)\n",
    "# model_5 = fill_missing_data(dataset[5])"
   ]
  },
  {
   "cell_type": "code",
   "execution_count": 1370,
   "metadata": {
    "collapsed": false
   },
   "outputs": [],
   "source": [
    "dataset_fancy = np.copy(df)\n",
    "dataset_fancy[:,2] = model_2.reshape((len(model_2),))\n",
    "dataset_fancy[:,3] = model_3.reshape((len(model_3),))\n",
    "dataset_fancy[:,4] =  model_4.reshape((len(model_4),))"
   ]
  },
  {
   "cell_type": "code",
   "execution_count": 1371,
   "metadata": {
    "collapsed": false
   },
   "outputs": [],
   "source": [
    "dataset_fancy  = pd.DataFrame(dataset_fancy)"
   ]
  },
  {
   "cell_type": "code",
   "execution_count": 1372,
   "metadata": {
    "collapsed": false
   },
   "outputs": [],
   "source": [
    "train_indices = np.random.uniform(size=len(dataset_fancy[0])) > 1. / 3."
   ]
  },
  {
   "cell_type": "code",
   "execution_count": 1373,
   "metadata": {
    "collapsed": false
   },
   "outputs": [],
   "source": [
    "train = pd.DataFrame(df[train_indices])\n",
    "test = pd.DataFrame(df[~train_indices])"
   ]
  },
  {
   "cell_type": "code",
   "execution_count": 1374,
   "metadata": {
    "collapsed": true
   },
   "outputs": [],
   "source": [
    "col2_mean = np.mean(train[2][train[2]>-9])\n",
    "col3_mean = np.mean(train[3][train[3]>-9])\n",
    "col4_mean = np.mean(train[4][train[4]>-9])"
   ]
  },
  {
   "cell_type": "code",
   "execution_count": 1375,
   "metadata": {
    "collapsed": false
   },
   "outputs": [],
   "source": [
    "train[2] = train[2].replace(-9,col2_mean)\n",
    "train[3] = train[3].replace(-9,col3_mean)\n",
    "train[4] = train[4].replace(-9,col4_mean)\n"
   ]
  },
  {
   "cell_type": "code",
   "execution_count": 1376,
   "metadata": {
    "collapsed": false
   },
   "outputs": [],
   "source": [
    "col2_mean = np.mean(test[2][test[2]>-9])\n",
    "col3_mean = np.mean(test[3][test[3]>-9])\n",
    "col4_mean = np.mean(test[4][test[4]>-9])\n",
    "test[2] = test[2].replace(-9,col2_mean)\n",
    "test[3] = test[3].replace(-9,col3_mean)\n",
    "test[4] = test[4].replace(-9,col4_mean)\n"
   ]
  },
  {
   "cell_type": "code",
   "execution_count": 1377,
   "metadata": {
    "collapsed": false
   },
   "outputs": [
    {
     "data": {
      "text/plain": [
       "0.82307692307692304"
      ]
     },
     "execution_count": 1377,
     "metadata": {},
     "output_type": "execute_result"
    }
   ],
   "source": [
    "standard = LogisticRegression()\n",
    "standard.fit(train[[0,1,2,3,4]],train[5])\n",
    "standard.score(test[[0,1,2,3,4]],test[5])"
   ]
  },
  {
   "cell_type": "code",
   "execution_count": 1378,
   "metadata": {
    "collapsed": false
   },
   "outputs": [],
   "source": [
    "train = dataset_fancy[train_indices]\n",
    "test = dataset_fancy[~train_indices]"
   ]
  },
  {
   "cell_type": "code",
   "execution_count": 1379,
   "metadata": {
    "collapsed": false
   },
   "outputs": [
    {
     "data": {
      "text/plain": [
       "0.80000000000000004"
      ]
     },
     "execution_count": 1379,
     "metadata": {},
     "output_type": "execute_result"
    }
   ],
   "source": [
    "model = LogisticRegression()\n",
    "model.fit(train[[ 0,1,2,3,4]],train[5])\n",
    "model.score(test[[0,1,2,3,4]],test[5])"
   ]
  },
  {
   "cell_type": "code",
   "execution_count": null,
   "metadata": {
    "collapsed": true
   },
   "outputs": [],
   "source": []
  },
  {
   "cell_type": "markdown",
   "metadata": {},
   "source": [
    "# Add Noise"
   ]
  },
  {
   "cell_type": "code",
   "execution_count": 1551,
   "metadata": {
    "collapsed": false
   },
   "outputs": [
    {
     "name": "stdout",
     "output_type": "stream",
     "text": [
      "\n"
     ]
    }
   ],
   "source": [
    "import urllib\n",
    "raw_data = urllib.urlopen(\"https://archive.ics.uci.edu/ml/machine-learning-databases/mammographic-masses/mammographic_masses.data\")"
   ]
  },
  {
   "cell_type": "code",
   "execution_count": 1552,
   "metadata": {
    "collapsed": true
   },
   "outputs": [],
   "source": [
    "dataset = np.loadtxt(raw_data,dtype = np.str_, delimiter=\",\")\n",
    "dataset = pd.DataFrame(dataset)"
   ]
  },
  {
   "cell_type": "code",
   "execution_count": 1553,
   "metadata": {
    "collapsed": false
   },
   "outputs": [],
   "source": [
    "dataset = dataset.replace('?','-9')\n",
    "dataset = dataset.astype(float)"
   ]
  },
  {
   "cell_type": "code",
   "execution_count": 1519,
   "metadata": {
    "collapsed": false
   },
   "outputs": [],
   "source": [
    "# noise = np.random.randint(low = 0, high = 2,size = (961,6))\n",
    "# r = np.random.randint(low = 0, high = 1, size=((961,6)))\n",
    "# dataset_noisy = noise*r+dataset"
   ]
  },
  {
   "cell_type": "code",
   "execution_count": 1709,
   "metadata": {
    "collapsed": false
   },
   "outputs": [
    {
     "data": {
      "text/plain": [
       "1"
      ]
     },
     "execution_count": 1709,
     "metadata": {},
     "output_type": "execute_result"
    }
   ],
   "source": [
    "np.random.randint(0,2)"
   ]
  },
  {
   "cell_type": "code",
   "execution_count": 1527,
   "metadata": {
    "collapsed": false
   },
   "outputs": [
    {
     "name": "stdout",
     "output_type": "stream",
     "text": [
      "0\n",
      "41.4691050053\n",
      "0\n",
      "52.1566331387\n",
      "0\n",
      "37.5152111053\n"
     ]
    }
   ],
   "source": [
    "model_2 = fill_missing_data(dataset[2], z = 7)\n",
    "model_3 = fill_missing_data(dataset[3], z = 7)\n",
    "model_4 = fill_missing_data(dataset[4], z = 7)\n",
    "# model_5 = fill_missing_data(dataset[5])"
   ]
  },
  {
   "cell_type": "code",
   "execution_count": 1528,
   "metadata": {
    "collapsed": false
   },
   "outputs": [],
   "source": [
    "dataset_fancy = np.copy(dataset)\n",
    "dataset_fancy[:,2] = model_2.reshape((len(model_2),))\n",
    "dataset_fancy[:,3] = model_3.reshape((len(model_3),))\n",
    "dataset_fancy[:,4] =  model_4.reshape((len(model_4),))\n",
    "dataset_fancy  = pd.DataFrame(dataset_fancy)"
   ]
  },
  {
   "cell_type": "code",
   "execution_count": null,
   "metadata": {
    "collapsed": true
   },
   "outputs": [],
   "source": []
  },
  {
   "cell_type": "code",
   "execution_count": 1529,
   "metadata": {
    "collapsed": true
   },
   "outputs": [],
   "source": [
    "train_indices = np.random.uniform(size=len(dataset_fancy[0])) > 1. / 3.\n",
    "train = pd.DataFrame(dataset_noisy[train_indices])\n",
    "test = pd.DataFrame(dataset_noisy[~train_indices])"
   ]
  },
  {
   "cell_type": "code",
   "execution_count": 1530,
   "metadata": {
    "collapsed": true
   },
   "outputs": [],
   "source": [
    "\n",
    "col2_mean = np.mean(train[2][train[2]>=0])\n",
    "col3_mean = np.mean(train[3][train[3]>=0])\n",
    "col4_mean = np.mean(train[4][train[4]>=0])\n",
    "train[2] = train[2].replace(-9,col2_mean)\n",
    "train[3] = train[3].replace(-9,col3_mean)\n",
    "train[4] = train[4].replace(-9,col4_mean)\n",
    "\n",
    "\n",
    "col2_mean = np.mean(test[2][test[2]>=0])\n",
    "col3_mean = np.mean(test[3][test[3]>=0])\n",
    "col4_mean = np.mean(test[4][test[4]>=0])\n",
    "test[2] = test[2].replace(-9,col2_mean)\n",
    "test[3] = test[3].replace(-9,col3_mean)\n",
    "test[4] = test[4].replace(-9,col4_mean)\n"
   ]
  },
  {
   "cell_type": "code",
   "execution_count": 1531,
   "metadata": {
    "collapsed": false
   },
   "outputs": [
    {
     "data": {
      "text/plain": [
       "0.79940119760479045"
      ]
     },
     "execution_count": 1531,
     "metadata": {},
     "output_type": "execute_result"
    }
   ],
   "source": [
    "standard = LogisticRegression()\n",
    "standard.fit(train[[0,1,2,3,4]],train[5])\n",
    "standard.score(test[[0,1,2,3,4]],test[5])"
   ]
  },
  {
   "cell_type": "code",
   "execution_count": 1532,
   "metadata": {
    "collapsed": true
   },
   "outputs": [],
   "source": [
    "train = dataset_fancy[train_indices]\n",
    "test = dataset_fancy[~train_indices]"
   ]
  },
  {
   "cell_type": "code",
   "execution_count": 1533,
   "metadata": {
    "collapsed": false
   },
   "outputs": [
    {
     "data": {
      "text/plain": [
       "0.79041916167664672"
      ]
     },
     "execution_count": 1533,
     "metadata": {},
     "output_type": "execute_result"
    }
   ],
   "source": [
    "model = LogisticRegression()\n",
    "model.fit(train[[ 0,1,2,3,4]],train[5])\n",
    "model.score(test[[0,1,2,3,4]],test[5])"
   ]
  },
  {
   "cell_type": "markdown",
   "metadata": {},
   "source": [
    "# Tune the Latent Variable"
   ]
  },
  {
   "cell_type": "code",
   "execution_count": 1561,
   "metadata": {
    "collapsed": true
   },
   "outputs": [],
   "source": [
    "import urllib\n",
    "raw_data = urllib.urlopen(\"https://archive.ics.uci.edu/ml/machine-learning-databases/mammographic-masses/mammographic_masses.data\")\n",
    "dataset = np.loadtxt(raw_data,dtype = np.str_, delimiter=\",\")\n",
    "dataset = pd.DataFrame(dataset)\n",
    "dataset = dataset.replace('?','-9')\n",
    "dataset = dataset.astype(float)"
   ]
  },
  {
   "cell_type": "code",
   "execution_count": 1696,
   "metadata": {
    "collapsed": false
   },
   "outputs": [
    {
     "name": "stdout",
     "output_type": "stream",
     "text": [
      "0\n",
      "5.83701586723\n",
      "0\n",
      "7.63048219681\n",
      "0\n",
      "7.82010817528\n",
      "0\n",
      "6.1628510952\n",
      "0\n",
      "12.1082279682\n",
      "0\n",
      "14.0896232128\n",
      "0\n",
      "8.44600391388\n",
      "0\n",
      "13.4143419266\n",
      "0\n",
      "6.00969696045\n",
      "0\n",
      "6.14981102943\n",
      "0\n",
      "6.91462302208\n",
      "0\n",
      "5.32743906975\n",
      "0\n",
      "5.39202809334\n",
      "0\n",
      "7.10862088203\n",
      "0\n",
      "7.30707502365\n",
      "0\n",
      "17.6918418407\n",
      "0\n",
      "13.457116127\n",
      "0\n",
      "11.8031179905\n",
      "0\n",
      "10.8745141029\n",
      "0\n",
      "15.4700989723\n",
      "0\n",
      "11.2282640934\n",
      "0\n",
      "11.5617349148\n",
      "0\n",
      "16.301705122\n",
      "0\n",
      "12.999876976\n",
      "0\n",
      "11.0371890068\n",
      "0\n",
      "16.9260518551\n",
      "0\n",
      "11.788433075\n",
      "0\n",
      "11.431551218\n",
      "0\n",
      "13.9045629501\n",
      "0\n",
      "11.9944159985\n",
      "0\n",
      "16.3791439533\n",
      "0\n",
      "20.6016118526\n",
      "0\n",
      "16.8025410175\n",
      "0\n",
      "16.6302511692\n",
      "0\n",
      "21.8169391155\n",
      "0\n",
      "17.4754750729\n",
      "0\n",
      "18.0213589668\n",
      "0\n",
      "19.4798059464\n",
      "0\n",
      "19.6076490879\n",
      "0\n",
      "17.8675198555\n",
      "0\n",
      "25.5449249744\n",
      "0\n",
      "16.1344070435\n",
      "0\n",
      "22.5231420994\n",
      "0\n",
      "27.7434790134\n",
      "0\n",
      "18.0531020164\n",
      "0\n",
      "25.8285629749\n",
      "0\n",
      "32.3183629513\n",
      "0\n",
      "25.2814941406\n",
      "0\n",
      "24.16741395\n",
      "0\n",
      "31.7563738823\n",
      "0\n",
      "24.6792690754\n",
      "0\n",
      "23.9348831177\n",
      "0\n",
      "31.7950329781\n",
      "0\n",
      "23.6694350243\n",
      "0\n",
      "24.0542039871\n",
      "0\n",
      "30.7557580471\n",
      "0\n",
      "23.6576840878\n",
      "0\n",
      "24.0259540081\n",
      "0\n",
      "31.6595900059\n",
      "0\n",
      "24.9731309414\n",
      "0\n",
      "31.0116109848\n",
      "0\n",
      "43.1971859932\n",
      "0\n",
      "36.6573169231\n",
      "0\n",
      "29.577794075\n",
      "0\n",
      "37.468900919\n",
      "0\n",
      "35.7185349464\n",
      "0\n",
      "32.4255959988\n",
      "0\n",
      "35.8539040089\n",
      "0\n",
      "26.1056609154\n",
      "0\n",
      "29.2272150517\n",
      "0\n",
      "37.4377291203\n",
      "0\n",
      "26.5579040051\n",
      "0\n",
      "30.3084311485\n",
      "0\n",
      "34.5120220184\n",
      "0\n",
      "27.1898829937\n",
      "0\n",
      "33.5563111305\n",
      "0\n",
      "44.0989229679\n",
      "0\n",
      "40.5980370045\n",
      "0\n",
      "37.4052388668\n",
      "0\n",
      "47.8215811253\n",
      "0\n",
      "36.4611492157\n",
      "0\n",
      "34.954584837\n",
      "0\n",
      "50.5516250134\n",
      "0\n",
      "34.8622920513\n",
      "0\n",
      "34.4299278259\n",
      "0\n",
      "40.7692718506\n",
      "0\n",
      "40.0813088417\n",
      "0\n",
      "42.3904831409\n",
      "0\n",
      "50.5379121304\n",
      "0\n",
      "40.5169019699\n",
      "0\n",
      "44.2262511253\n",
      "0\n",
      "72.1048121452\n",
      "0\n",
      "52.4461770058\n",
      "0\n",
      "48.1831951141\n",
      "0\n",
      "52.0965390205\n",
      "0\n",
      "41.4530289173\n",
      "0\n",
      "40.3825740814\n",
      "0\n",
      "49.9101059437\n",
      "0\n",
      "38.2703139782\n",
      "0\n",
      "43.2053890228\n",
      "0\n",
      "52.9642930031\n",
      "0\n",
      "41.2895088196\n",
      "0\n",
      "40.0678319931\n",
      "0\n",
      "47.1452550888\n",
      "0\n",
      "36.9754669666\n",
      "0\n",
      "43.1130650043\n",
      "0\n",
      "54.0953450203\n",
      "0\n",
      "42.3611288071\n",
      "0\n",
      "42.5632879734\n",
      "0\n",
      "56.0256299973\n",
      "0\n",
      "42.5752708912\n",
      "0\n",
      "42.9733910561\n",
      "0\n",
      "54.6170239449\n",
      "0\n",
      "43.0353448391\n",
      "0\n",
      "42.393089056\n",
      "0\n",
      "54.0775809288\n",
      "0\n",
      "43.4754078388\n",
      "0\n",
      "42.5648930073\n",
      "0\n",
      "53.42958498\n",
      "0\n",
      "42.8681480885\n"
     ]
    }
   ],
   "source": [
    "from sklearn.cross_validation import KFold\n",
    "best_score = 0\n",
    "overall_score = []\n",
    "for z_ in range(1,9):\n",
    "    # Cross validation for every experiment\n",
    "    k_folds = KFold(len(dataset[0]), n_folds=5, shuffle=True)\n",
    "    scores = []\n",
    "    \n",
    "    for train_indices, validation_indices in k_folds:\n",
    "        model_2 = fill_missing_data(dataset[2], z = z_)\n",
    "        model_3 = fill_missing_data(dataset[3], z = z_)\n",
    "        model_4 = fill_missing_data(dataset[4], z = z_)\n",
    "\n",
    "        dataset_fancy = np.copy(dataset)\n",
    "        dataset_fancy[:,2] = model_2.reshape((len(model_2),))\n",
    "        dataset_fancy[:,3] = model_3.reshape((len(model_3),))\n",
    "        dataset_fancy[:,4] =  model_4.reshape((len(model_4),))\n",
    "        dataset_fancy  = pd.DataFrame(dataset_fancy)\n",
    "        \n",
    "        \n",
    "        \n",
    "#         # Generate training data\n",
    "#         train_cv = dataset[train_indices]\n",
    "        \n",
    "#         # Generate validation data\n",
    "#         validate = dataset[validation_indices]\n",
    "        \n",
    "\n",
    "#         col2_mean = np.mean(train_cv[2][train_cv[2]>=0])\n",
    "#         col3_mean = np.mean(train_cv[3][train_cv[3]>=0])\n",
    "#         col4_mean = np.mean(train_cv[4][train_cv[4]>=0])\n",
    "#         train_cv[2] = train_cv[2].replace(-9,col2_mean)\n",
    "#         train_cv[3] = train_cv[3].replace(-9,col3_mean)\n",
    "#         train_cv[4] = train_cv[4].replace(-9,col4_mean)\n",
    "\n",
    "\n",
    "#         col2_mean = np.mean(validate[2][validate[2]>=0])\n",
    "#         col3_mean = np.mean(validate[3][validate[3]>=0])\n",
    "#         col4_mean = np.mean(validate[4][validate[4]>=0])\n",
    "#         validate[2] = validate[2].replace(-9,col2_mean)\n",
    "#         validate[3] = validate[3].replace(-9,col3_mean)\n",
    "#         validate[4] = validate[4].replace(-9,col4_mean)\n",
    "\n",
    "        \n",
    "        \n",
    "        \n",
    "        # Fit random forest on training data\n",
    "#         standard = LogisticRegression()\n",
    "#         standard.fit(train_cv[[0,1,2,3,4]],train_cv[5])\n",
    "#         diff += model.score(validate[[0,1,2,3,4]],validate[5]) - standard.score(validate[[0,1,2,3,4]],validate[5])\n",
    "    \n",
    "    \n",
    "        # Generate training data\n",
    "        train_cv = np.array(dataset_fancy)[train_indices]\n",
    "        train_cv = pd.DataFrame(train_cv)\n",
    "        # Generate validation data\n",
    "        validate = np.array(dataset_fancy)[validation_indices]\n",
    "        validate = pd.DataFrame(validate)\n",
    "        \n",
    "        model = LogisticRegression()\n",
    "        model.fit(train_cv[[ 0,1,2,3,4]],train_cv[5])\n",
    "        scores.append(model.score(validate[[0,1,2,3,4]],validate[5]))\n",
    "        \n",
    "        \n",
    "    # Record and report accuracy\n",
    "    average_score = np.mean(scores)\n",
    "    overall_score.append(average_score)\n",
    "#     average_diff = np.mean(diff)\n",
    "    # Update our record of the best parameters see so far\n",
    "    if average_score > best_score:\n",
    "        best_score = average_score\n",
    "        best_z = z_\n",
    "        \n",
    "#     if average_diff > best_diff:\n",
    "#         best_diff = average_diff\n",
    "#         best_z_diff = z_\n",
    "\n"
   ]
  },
  {
   "cell_type": "code",
   "execution_count": 1701,
   "metadata": {
    "collapsed": false
   },
   "outputs": [
    {
     "data": {
      "text/plain": [
       "4"
      ]
     },
     "execution_count": 1701,
     "metadata": {},
     "output_type": "execute_result"
    }
   ],
   "source": [
    "best_z"
   ]
  },
  {
   "cell_type": "code",
   "execution_count": 1703,
   "metadata": {
    "collapsed": false
   },
   "outputs": [
    {
     "data": {
      "text/plain": [
       "<matplotlib.text.Text at 0x11989bd10>"
      ]
     },
     "execution_count": 1703,
     "metadata": {},
     "output_type": "execute_result"
    },
    {
     "data": {
      "image/png": "[encoded data removed]",
      "text/plain": [
       "<matplotlib.figure.Figure at 0x11dfbff90>"
      ]
     },
     "metadata": {},
     "output_type": "display_data"
    }
   ],
   "source": [
    "plt.plot(range(1,9),overall_score)\n",
    "plt.xlabel('Number of Latent Variables')\n",
    "plt.ylabel(\"R^2 value\")\n",
    "plt.title(\"Tuning for z in Mammographic Data\")"
   ]
  },
  {
   "cell_type": "code",
   "execution_count": 1573,
   "metadata": {
    "collapsed": true
   },
   "outputs": [],
   "source": [
    "import urllib\n",
    "raw_data = urllib.urlopen(\"https://archive.ics.uci.edu/ml/machine-learning-databases/mammographic-masses/mammographic_masses.data\")\n",
    "dataset = np.loadtxt(raw_data,dtype = np.str_, delimiter=\",\")\n",
    "dataset = pd.DataFrame(dataset)\n",
    "dataset = dataset.replace('?','-9')\n",
    "dataset = dataset.astype(float)"
   ]
  },
  {
   "cell_type": "code",
   "execution_count": 1574,
   "metadata": {
    "collapsed": false
   },
   "outputs": [
    {
     "name": "stdout",
     "output_type": "stream",
     "text": [
      "0\n",
      "21.0729119778\n",
      "0\n",
      "26.9510920048\n",
      "0\n",
      "22.162058115\n"
     ]
    }
   ],
   "source": [
    "model_2 = fill_missing_data(dataset[2], z = 4)\n",
    "model_3 = fill_missing_data(dataset[3], z = 4)\n",
    "model_4 = fill_missing_data(dataset[4], z = 4)\n",
    "# model_5 = fill_missing_data(dataset[5])\n",
    "dataset_fancy = np.copy(dataset)\n",
    "dataset_fancy[:,2] = model_2.reshape((len(model_2),))\n",
    "dataset_fancy[:,3] = model_3.reshape((len(model_3),))\n",
    "dataset_fancy[:,4] =  model_4.reshape((len(model_4),))\n",
    "dataset_fancy  = pd.DataFrame(dataset_fancy)"
   ]
  },
  {
   "cell_type": "code",
   "execution_count": 1583,
   "metadata": {
    "collapsed": true
   },
   "outputs": [],
   "source": [
    "train_indices = np.random.uniform(size=len(dataset_fancy[0])) > 1. / 3.\n",
    "train = pd.DataFrame(dataset_noisy[train_indices])\n",
    "test = pd.DataFrame(dataset_noisy[~train_indices])"
   ]
  },
  {
   "cell_type": "code",
   "execution_count": 1584,
   "metadata": {
    "collapsed": true
   },
   "outputs": [],
   "source": [
    "col2_mean = np.mean(train[2][train[2]>=0])\n",
    "col3_mean = np.mean(train[3][train[3]>=0])\n",
    "col4_mean = np.mean(train[4][train[4]>=0])\n",
    "train[2] = train[2].replace(-9,col2_mean)\n",
    "train[3] = train[3].replace(-9,col3_mean)\n",
    "train[4] = train[4].replace(-9,col4_mean)\n",
    "\n",
    "\n",
    "col2_mean = np.mean(test[2][test[2]>=0])\n",
    "col3_mean = np.mean(test[3][test[3]>=0])\n",
    "col4_mean = np.mean(test[4][test[4]>=0])\n",
    "test[2] = test[2].replace(-9,col2_mean)\n",
    "test[3] = test[3].replace(-9,col3_mean)\n",
    "test[4] = test[4].replace(-9,col4_mean)"
   ]
  },
  {
   "cell_type": "code",
   "execution_count": 1585,
   "metadata": {
    "collapsed": false
   },
   "outputs": [
    {
     "data": {
      "text/plain": [
       "0.8271604938271605"
      ]
     },
     "execution_count": 1585,
     "metadata": {},
     "output_type": "execute_result"
    }
   ],
   "source": [
    "standard = LogisticRegression()\n",
    "standard.fit(train[[0,1,2,3,4]],train[5])\n",
    "standard.score(test[[0,1,2,3,4]],test[5])"
   ]
  },
  {
   "cell_type": "code",
   "execution_count": 1586,
   "metadata": {
    "collapsed": false
   },
   "outputs": [
    {
     "data": {
      "text/plain": [
       "0.83024691358024694"
      ]
     },
     "execution_count": 1586,
     "metadata": {},
     "output_type": "execute_result"
    }
   ],
   "source": [
    "train = dataset_fancy[train_indices]\n",
    "test = dataset_fancy[~train_indices]\n",
    "model = LogisticRegression()\n",
    "model.fit(train[[ 0,1,2,3,4]],train[5])\n",
    "model.score(test[[0,1,2,3,4]],test[5])"
   ]
  },
  {
   "cell_type": "markdown",
   "metadata": {},
   "source": [
    "### Analysis"
   ]
  },
  {
   "cell_type": "markdown",
   "metadata": {},
   "source": [
    "Wow! My code actually works. Our original beta estimates were $[[.5,.2,.1,.1,.1],[.1,.2,.5,.2,.1],[.05,.1,.1,.35,.4]]$. We can see from the $\\beta$ estimates that for the first movie, you are more likely to give it a 1 and for the last movie, you are more likely to give it a 5 and for the second movie, you are most likely to give it a 3. That's what our initial beta estimates are!!"
   ]
  },
  {
   "cell_type": "markdown",
   "metadata": {},
   "source": [
    "# Predictions"
   ]
  },
  {
   "cell_type": "markdown",
   "metadata": {},
   "source": [
    "The concept behind predicting is that now that we have a converged beta, for each of the missing values, we will pull the rating value $v$ from a multinomial distribution. How do I deal with this when there are latent variables? How do you know which latent variable each perosn is from? I can take the posterior distribution of the phi and take the argmax to identify which latent variable he or she comes from. "
   ]
  },
  {
   "cell_type": "code",
   "execution_count": 102,
   "metadata": {
    "collapsed": false
   },
   "outputs": [],
   "source": [
    "fill_in_data = r*complete_data\n",
    "for n_ in range(n):\n",
    "    for m_ in range(m):\n",
    "        latent = np.argmax(phi[:,n_])\n",
    "        if fill_in_data[n_][m_] == 0:\n",
    "            fill_in_data[n_][m_] = np.argmax(np.random.multinomial(1, beta[:,m_,latent]))+1"
   ]
  },
  {
   "cell_type": "code",
   "execution_count": null,
   "metadata": {
    "collapsed": true
   },
   "outputs": [],
   "source": []
  },
  {
   "cell_type": "code",
   "execution_count": 103,
   "metadata": {
    "collapsed": false
   },
   "outputs": [
    {
     "data": {
      "text/plain": [
       "array([ 1.,  1.,  1.])"
      ]
     },
     "execution_count": 103,
     "metadata": {},
     "output_type": "execute_result"
    }
   ],
   "source": [
    "r[11]"
   ]
  },
  {
   "cell_type": "code",
   "execution_count": 104,
   "metadata": {
    "collapsed": false
   },
   "outputs": [
    {
     "data": {
      "text/plain": [
       "array([ 1.,  2.,  2.])"
      ]
     },
     "execution_count": 104,
     "metadata": {},
     "output_type": "execute_result"
    }
   ],
   "source": [
    "fill_in_data[11]"
   ]
  },
  {
   "cell_type": "code",
   "execution_count": 105,
   "metadata": {
    "collapsed": false
   },
   "outputs": [
    {
     "data": {
      "text/plain": [
       "array([1, 2, 2])"
      ]
     },
     "execution_count": 105,
     "metadata": {},
     "output_type": "execute_result"
    }
   ],
   "source": [
    "complete_data[11]"
   ]
  },
  {
   "cell_type": "code",
   "execution_count": 106,
   "metadata": {
    "collapsed": false
   },
   "outputs": [],
   "source": [
    "def fill_in_accuracy(complete,filled,rmse = True):\n",
    "    if not rmse:\n",
    "        difference = 0\n",
    "        total = 0\n",
    "        for n_ in range(n):\n",
    "            for m_ in range(m):\n",
    "                if (complete[n_][m_] + filled[n_][m_] <> 0):\n",
    "                    total += 1\n",
    "                    if complete[n_][m_] == filled[n_][m_]:\n",
    "                        difference += 1\n",
    "        print \"The total number of missing values is\", total\n",
    "        print \"The number of accurate filled values is\", difference\n",
    "    else:\n",
    "        mad = abs(complete_data[np.nonzero((1-r)*complete_data)]-fill_in_data[np.nonzero((1-r)*fill_in_data)]).mean()\n",
    "        print \"the mean absolute deviation is\",mad"
   ]
  },
  {
   "cell_type": "code",
   "execution_count": 107,
   "metadata": {
    "collapsed": false
   },
   "outputs": [
    {
     "name": "stdout",
     "output_type": "stream",
     "text": [
      "The total number of missing values is 117\n",
      "The number of accurate filled values is 35\n",
      "the mean absolute deviation is 1.2905982906\n"
     ]
    }
   ],
   "source": [
    "fill_in_accuracy((1-r)*complete_data,(1-r)*fill_in_data, rmse=False)\n",
    "fill_in_accuracy((1-r)*complete_data,(1-r)*fill_in_data, rmse=True)"
   ]
  },
  {
   "cell_type": "markdown",
   "metadata": {},
   "source": [
    "### Future Steps"
   ]
  },
  {
   "cell_type": "markdown",
   "metadata": {},
   "source": [
    "I had to hard code with for loop for three of the predictors. Working on how to use matrix multiplication but can't see a clear pattern. Also not sure how to use $\\beta$ to actually predict the values after the fitting is done. Do I call np.random.multinomial($\\beta$, 1) then take the index of the array that has 1 success and fill in that missing value?"
   ]
  },
  {
   "cell_type": "markdown",
   "metadata": {},
   "source": [
    "## Next Steps\n",
    "-- after talk with Weiwei on Tuesday, \n",
    "\n",
    "    -- create a function handle multiple latent variables. x\n",
    "    \n",
    "    -- speed up by vectorizing some of the code x\n",
    "    \n",
    "    -- run the loop using epsilon rather than just a lot of loops. "
   ]
  },
  {
   "cell_type": "markdown",
   "metadata": {
    "collapsed": true
   },
   "source": [
    "## Links\n",
    "\n",
    "Description of Multinomial Mixture Models\n",
    "http://web.stanford.edu/~lmackey/stats306b/doc/stats306b-spring14-lecture3_scribed.pdf\n",
    "https://www.cs.princeton.edu/courses/archive/spring12/cos424/pdf/em-mixtures.pdf\n",
    "\n",
    "My specific Paper\n",
    "http://www.cs.ubc.ca/~bmarlin/research/presentations/lnimd_group_talk.pdf\n",
    "https://people.cs.umass.edu/~marlin/research/papers/aistat-lnimd.pdf\n",
    "\n",
    "Application of my paper\n",
    "http://ijcai.org/Proceedings/11/Papers/447.pdf\n",
    "http://www.cs.toronto.edu/~zemel/documents/cfmar-uai2007.pdf\n",
    "https://pdfs.semanticscholar.org/2845/eda7ce8de14e351d41182f92b73ece8873ef.pdf\n",
    "https://people.cs.umass.edu/~marlin/research/thesis/cfmlp.pdf"
   ]
  },
  {
   "cell_type": "code",
   "execution_count": null,
   "metadata": {
    "collapsed": true
   },
   "outputs": [],
   "source": []
  }
 ],
 "metadata": {
  "anaconda-cloud": {},
  "kernelspec": {
   "display_name": "Python [Root]",
   "language": "python",
   "name": "Python [Root]"
  },
  "language_info": {
   "codemirror_mode": {
    "name": "ipython",
    "version": 2
   },
   "file_extension": ".py",
   "mimetype": "text/x-python",
   "name": "python",
   "nbconvert_exporter": "python",
   "pygments_lexer": "ipython2",
   "version": "2.7.12"
  }
 },
 "nbformat": 4,
 "nbformat_minor": 0
}
